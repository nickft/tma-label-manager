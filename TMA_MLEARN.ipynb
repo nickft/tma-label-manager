{
  "cells": [
    {
      "cell_type": "markdown",
      "metadata": {
        "id": "yxONg3yFLTyB"
      },
      "source": [
        "# 1. Introduction\n",
        "\n",
        "First let's import a dataset. Download it to your local storage and import it here. (Run the following snippet to upload the file)"
      ]
    },
    {
      "cell_type": "code",
      "execution_count": 1,
      "metadata": {
        "colab": {
          "base_uri": "https://localhost:8080/",
          "height": 132,
          "resources": {
            "http://localhost:8080/nbextensions/google.colab/files.js": {
              "data": "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",
              "headers": [
                [
                  "content-type",
                  "application/javascript"
                ]
              ],
              "ok": true,
              "status": 200,
              "status_text": "OK"
            }
          }
        },
        "id": "Xq4xrZ7hH_RT",
        "outputId": "c3e990c8-052a-4b7a-fcb6-f7c5ec8d9b44"
      },
      "outputs": [
        {
          "output_type": "display_data",
          "data": {
            "text/html": [
              "\n",
              "     <input type=\"file\" id=\"files-10e4606d-8a00-433c-b108-b9689081763b\" name=\"files[]\" multiple disabled\n",
              "        style=\"border:none\" />\n",
              "     <output id=\"result-10e4606d-8a00-433c-b108-b9689081763b\">\n",
              "      Upload widget is only available when the cell has been executed in the\n",
              "      current browser session. Please rerun this cell to enable.\n",
              "      </output>\n",
              "      <script src=\"/nbextensions/google.colab/files.js\"></script> "
            ],
            "text/plain": [
              "<IPython.core.display.HTML object>"
            ]
          },
          "metadata": {}
        },
        {
          "output_type": "stream",
          "name": "stdout",
          "text": [
            "Saving input_dataset_11758_sessions.csv to input_dataset_11758_sessions.csv\n"
          ]
        },
        {
          "output_type": "display_data",
          "data": {
            "text/html": [
              "\n",
              "     <input type=\"file\" id=\"files-989d302a-6e79-4e1e-af64-f3ac00aed11b\" name=\"files[]\" multiple disabled\n",
              "        style=\"border:none\" />\n",
              "     <output id=\"result-989d302a-6e79-4e1e-af64-f3ac00aed11b\">\n",
              "      Upload widget is only available when the cell has been executed in the\n",
              "      current browser session. Please rerun this cell to enable.\n",
              "      </output>\n",
              "      <script src=\"/nbextensions/google.colab/files.js\"></script> "
            ],
            "text/plain": [
              "<IPython.core.display.HTML object>"
            ]
          },
          "metadata": {}
        },
        {
          "output_type": "stream",
          "name": "stdout",
          "text": [
            "Saving generalized_dataset.csv to generalized_dataset.csv\n"
          ]
        }
      ],
      "source": [
        "# Import dataset file to Colab\n",
        "from google.colab import files\n",
        "uploaded = files.upload()\n",
        "\n",
        "# Import generalized dataset as well\n",
        "generalized = files.upload()"
      ]
    },
    {
      "cell_type": "markdown",
      "metadata": {
        "id": "uAyfTkqeLez1"
      },
      "source": [
        "The uploaded variable has a list of the uploaded files. We are going to keep only the first one."
      ]
    },
    {
      "cell_type": "code",
      "execution_count": 2,
      "metadata": {
        "colab": {
          "base_uri": "https://localhost:8080/"
        },
        "id": "tCb2iRwdIj3m",
        "outputId": "15055a5c-372f-40c6-9907-c7e75275452f"
      },
      "outputs": [
        {
          "output_type": "stream",
          "name": "stdout",
          "text": [
            "input_dataset_11758_sessions.csv\n"
          ]
        }
      ],
      "source": [
        "dataset_filename = list(uploaded.keys())[0]\n",
        "\n",
        "print(dataset_filename)"
      ]
    },
    {
      "cell_type": "markdown",
      "metadata": {
        "id": "0c1g4rhRLop6"
      },
      "source": [
        "## 1.1 Importing the CSV to the notebook\n",
        "\n",
        "Now that we have uploaded the file to Colab we will play with some basic operations to get the feeling. In the end we have to define our classes for the Machine Learning model. For data manipulation we will be using python library called \"Pandas\""
      ]
    },
    {
      "cell_type": "code",
      "execution_count": 3,
      "metadata": {
        "colab": {
          "base_uri": "https://localhost:8080/",
          "height": 357
        },
        "id": "SvvazsJqHVTB",
        "outputId": "8409ca3d-10d4-46b1-cf3d-94239562299c"
      },
      "outputs": [
        {
          "output_type": "execute_result",
          "data": {
            "text/html": [
              "\n",
              "  <div id=\"df-dd0fba77-ad0e-47a2-8d8a-5495b01d771c\">\n",
              "    <div class=\"colab-df-container\">\n",
              "      <div>\n",
              "<style scoped>\n",
              "    .dataframe tbody tr th:only-of-type {\n",
              "        vertical-align: middle;\n",
              "    }\n",
              "\n",
              "    .dataframe tbody tr th {\n",
              "        vertical-align: top;\n",
              "    }\n",
              "\n",
              "    .dataframe thead th {\n",
              "        text-align: right;\n",
              "    }\n",
              "</style>\n",
              "<table border=\"1\" class=\"dataframe\">\n",
              "  <thead>\n",
              "    <tr style=\"text-align: right;\">\n",
              "      <th></th>\n",
              "      <th>id</th>\n",
              "      <th>bw</th>\n",
              "      <th>duration</th>\n",
              "      <th>packets</th>\n",
              "      <th>data_pkts</th>\n",
              "      <th>data_bytes</th>\n",
              "      <th>rexmit_pkts</th>\n",
              "      <th>rexmit_bytes</th>\n",
              "      <th>rtt_avg</th>\n",
              "      <th>rtt_min</th>\n",
              "      <th>rtt_max</th>\n",
              "      <th>stdev_rtt</th>\n",
              "      <th>rtt_count</th>\n",
              "      <th>reordering</th>\n",
              "      <th>ttl_min</th>\n",
              "      <th>ttl_max</th>\n",
              "      <th>max_seg_size</th>\n",
              "      <th>min_seg_size</th>\n",
              "      <th>win_max</th>\n",
              "      <th>win_min</th>\n",
              "      <th>rtx_RTO</th>\n",
              "      <th>rtx_FR</th>\n",
              "      <th>net_dup</th>\n",
              "      <th>flow_control</th>\n",
              "      <th>unnece_rtx_RTO</th>\n",
              "      <th>stallCount</th>\n",
              "      <th>qualityChanges</th>\n",
              "      <th>skippedFrames</th>\n",
              "      <th>fpsChanges</th>\n",
              "      <th>twitch_backend</th>\n",
              "    </tr>\n",
              "  </thead>\n",
              "  <tbody>\n",
              "    <tr>\n",
              "      <th>0</th>\n",
              "      <td>3577</td>\n",
              "      <td>5.0</td>\n",
              "      <td>60.0</td>\n",
              "      <td>10.0</td>\n",
              "      <td>4.0</td>\n",
              "      <td>2421.000000</td>\n",
              "      <td>0.0</td>\n",
              "      <td>0.0</td>\n",
              "      <td>15.536362</td>\n",
              "      <td>14.849000</td>\n",
              "      <td>16.015000</td>\n",
              "      <td>0.494797</td>\n",
              "      <td>4.0</td>\n",
              "      <td>0.0</td>\n",
              "      <td>64.0</td>\n",
              "      <td>1448.000000</td>\n",
              "      <td>80.000000</td>\n",
              "      <td>64256.000000</td>\n",
              "      <td>57216.000000</td>\n",
              "      <td>0.0</td>\n",
              "      <td>0.0</td>\n",
              "      <td>0.0</td>\n",
              "      <td>0.0</td>\n",
              "      <td>0.0</td>\n",
              "      <td>0.0</td>\n",
              "      <td>0</td>\n",
              "      <td>2</td>\n",
              "      <td>47</td>\n",
              "      <td>6</td>\n",
              "      <td>1.7.0-twitch.1-rc.1</td>\n",
              "    </tr>\n",
              "    <tr>\n",
              "      <th>1</th>\n",
              "      <td>3422</td>\n",
              "      <td>5.0</td>\n",
              "      <td>60.0</td>\n",
              "      <td>12.0</td>\n",
              "      <td>4.0</td>\n",
              "      <td>2322.000000</td>\n",
              "      <td>0.0</td>\n",
              "      <td>0.0</td>\n",
              "      <td>16.080478</td>\n",
              "      <td>14.766000</td>\n",
              "      <td>18.314000</td>\n",
              "      <td>1.322781</td>\n",
              "      <td>5.0</td>\n",
              "      <td>0.0</td>\n",
              "      <td>64.0</td>\n",
              "      <td>1448.000000</td>\n",
              "      <td>80.000000</td>\n",
              "      <td>64256.000000</td>\n",
              "      <td>57216.000000</td>\n",
              "      <td>0.0</td>\n",
              "      <td>0.0</td>\n",
              "      <td>0.0</td>\n",
              "      <td>0.0</td>\n",
              "      <td>0.0</td>\n",
              "      <td>0.0</td>\n",
              "      <td>0</td>\n",
              "      <td>1</td>\n",
              "      <td>1</td>\n",
              "      <td>1</td>\n",
              "      <td>1.7.0-twitch.1-rc.1</td>\n",
              "    </tr>\n",
              "    <tr>\n",
              "      <th>2</th>\n",
              "      <td>3427</td>\n",
              "      <td>5.0</td>\n",
              "      <td>60.0</td>\n",
              "      <td>10.0</td>\n",
              "      <td>4.0</td>\n",
              "      <td>2411.000000</td>\n",
              "      <td>0.0</td>\n",
              "      <td>0.0</td>\n",
              "      <td>15.403615</td>\n",
              "      <td>15.084000</td>\n",
              "      <td>15.881000</td>\n",
              "      <td>0.338309</td>\n",
              "      <td>4.0</td>\n",
              "      <td>0.0</td>\n",
              "      <td>64.0</td>\n",
              "      <td>1448.000000</td>\n",
              "      <td>80.000000</td>\n",
              "      <td>64256.000000</td>\n",
              "      <td>58368.000000</td>\n",
              "      <td>0.0</td>\n",
              "      <td>0.0</td>\n",
              "      <td>0.0</td>\n",
              "      <td>0.0</td>\n",
              "      <td>0.0</td>\n",
              "      <td>0.0</td>\n",
              "      <td>0</td>\n",
              "      <td>2</td>\n",
              "      <td>3</td>\n",
              "      <td>6</td>\n",
              "      <td>1.7.0-twitch.1-rc.1</td>\n",
              "    </tr>\n",
              "    <tr>\n",
              "      <th>3</th>\n",
              "      <td>3418</td>\n",
              "      <td>1.0</td>\n",
              "      <td>60.0</td>\n",
              "      <td>2612.0</td>\n",
              "      <td>69.0</td>\n",
              "      <td>12533.333333</td>\n",
              "      <td>1.0</td>\n",
              "      <td>1411.0</td>\n",
              "      <td>37.896837</td>\n",
              "      <td>30.723667</td>\n",
              "      <td>77.964000</td>\n",
              "      <td>14.536611</td>\n",
              "      <td>72.0</td>\n",
              "      <td>0.0</td>\n",
              "      <td>64.0</td>\n",
              "      <td>1189.666667</td>\n",
              "      <td>72.166667</td>\n",
              "      <td>216445.333333</td>\n",
              "      <td>59450.666667</td>\n",
              "      <td>0.0</td>\n",
              "      <td>0.0</td>\n",
              "      <td>0.0</td>\n",
              "      <td>0.0</td>\n",
              "      <td>1.0</td>\n",
              "      <td>0.0</td>\n",
              "      <td>1</td>\n",
              "      <td>4</td>\n",
              "      <td>1</td>\n",
              "      <td>5</td>\n",
              "      <td>1.7.0-twitch.1-rc.1</td>\n",
              "    </tr>\n",
              "    <tr>\n",
              "      <th>4</th>\n",
              "      <td>3421</td>\n",
              "      <td>4.0</td>\n",
              "      <td>60.0</td>\n",
              "      <td>59.0</td>\n",
              "      <td>11.0</td>\n",
              "      <td>2904.666667</td>\n",
              "      <td>0.0</td>\n",
              "      <td>0.0</td>\n",
              "      <td>58.047439</td>\n",
              "      <td>54.201667</td>\n",
              "      <td>69.851667</td>\n",
              "      <td>6.926492</td>\n",
              "      <td>15.0</td>\n",
              "      <td>0.0</td>\n",
              "      <td>64.0</td>\n",
              "      <td>980.333333</td>\n",
              "      <td>82.333333</td>\n",
              "      <td>64256.000000</td>\n",
              "      <td>61824.000000</td>\n",
              "      <td>0.0</td>\n",
              "      <td>0.0</td>\n",
              "      <td>0.0</td>\n",
              "      <td>0.0</td>\n",
              "      <td>0.0</td>\n",
              "      <td>0.0</td>\n",
              "      <td>0</td>\n",
              "      <td>2</td>\n",
              "      <td>1</td>\n",
              "      <td>4</td>\n",
              "      <td>1.7.0-twitch.1-rc.1</td>\n",
              "    </tr>\n",
              "  </tbody>\n",
              "</table>\n",
              "</div>\n",
              "      <button class=\"colab-df-convert\" onclick=\"convertToInteractive('df-dd0fba77-ad0e-47a2-8d8a-5495b01d771c')\"\n",
              "              title=\"Convert this dataframe to an interactive table.\"\n",
              "              style=\"display:none;\">\n",
              "        \n",
              "  <svg xmlns=\"http://www.w3.org/2000/svg\" height=\"24px\"viewBox=\"0 0 24 24\"\n",
              "       width=\"24px\">\n",
              "    <path d=\"M0 0h24v24H0V0z\" fill=\"none\"/>\n",
              "    <path d=\"M18.56 5.44l.94 2.06.94-2.06 2.06-.94-2.06-.94-.94-2.06-.94 2.06-2.06.94zm-11 1L8.5 8.5l.94-2.06 2.06-.94-2.06-.94L8.5 2.5l-.94 2.06-2.06.94zm10 10l.94 2.06.94-2.06 2.06-.94-2.06-.94-.94-2.06-.94 2.06-2.06.94z\"/><path d=\"M17.41 7.96l-1.37-1.37c-.4-.4-.92-.59-1.43-.59-.52 0-1.04.2-1.43.59L10.3 9.45l-7.72 7.72c-.78.78-.78 2.05 0 2.83L4 21.41c.39.39.9.59 1.41.59.51 0 1.02-.2 1.41-.59l7.78-7.78 2.81-2.81c.8-.78.8-2.07 0-2.86zM5.41 20L4 18.59l7.72-7.72 1.47 1.35L5.41 20z\"/>\n",
              "  </svg>\n",
              "      </button>\n",
              "      \n",
              "  <style>\n",
              "    .colab-df-container {\n",
              "      display:flex;\n",
              "      flex-wrap:wrap;\n",
              "      gap: 12px;\n",
              "    }\n",
              "\n",
              "    .colab-df-convert {\n",
              "      background-color: #E8F0FE;\n",
              "      border: none;\n",
              "      border-radius: 50%;\n",
              "      cursor: pointer;\n",
              "      display: none;\n",
              "      fill: #1967D2;\n",
              "      height: 32px;\n",
              "      padding: 0 0 0 0;\n",
              "      width: 32px;\n",
              "    }\n",
              "\n",
              "    .colab-df-convert:hover {\n",
              "      background-color: #E2EBFA;\n",
              "      box-shadow: 0px 1px 2px rgba(60, 64, 67, 0.3), 0px 1px 3px 1px rgba(60, 64, 67, 0.15);\n",
              "      fill: #174EA6;\n",
              "    }\n",
              "\n",
              "    [theme=dark] .colab-df-convert {\n",
              "      background-color: #3B4455;\n",
              "      fill: #D2E3FC;\n",
              "    }\n",
              "\n",
              "    [theme=dark] .colab-df-convert:hover {\n",
              "      background-color: #434B5C;\n",
              "      box-shadow: 0px 1px 3px 1px rgba(0, 0, 0, 0.15);\n",
              "      filter: drop-shadow(0px 1px 2px rgba(0, 0, 0, 0.3));\n",
              "      fill: #FFFFFF;\n",
              "    }\n",
              "  </style>\n",
              "\n",
              "      <script>\n",
              "        const buttonEl =\n",
              "          document.querySelector('#df-dd0fba77-ad0e-47a2-8d8a-5495b01d771c button.colab-df-convert');\n",
              "        buttonEl.style.display =\n",
              "          google.colab.kernel.accessAllowed ? 'block' : 'none';\n",
              "\n",
              "        async function convertToInteractive(key) {\n",
              "          const element = document.querySelector('#df-dd0fba77-ad0e-47a2-8d8a-5495b01d771c');\n",
              "          const dataTable =\n",
              "            await google.colab.kernel.invokeFunction('convertToInteractive',\n",
              "                                                     [key], {});\n",
              "          if (!dataTable) return;\n",
              "\n",
              "          const docLinkHtml = 'Like what you see? Visit the ' +\n",
              "            '<a target=\"_blank\" href=https://colab.research.google.com/notebooks/data_table.ipynb>data table notebook</a>'\n",
              "            + ' to learn more about interactive tables.';\n",
              "          element.innerHTML = '';\n",
              "          dataTable['output_type'] = 'display_data';\n",
              "          await google.colab.output.renderOutput(dataTable, element);\n",
              "          const docLink = document.createElement('div');\n",
              "          docLink.innerHTML = docLinkHtml;\n",
              "          element.appendChild(docLink);\n",
              "        }\n",
              "      </script>\n",
              "    </div>\n",
              "  </div>\n",
              "  "
            ],
            "text/plain": [
              "     id   bw  duration  ...  skippedFrames  fpsChanges       twitch_backend\n",
              "0  3577  5.0      60.0  ...             47           6  1.7.0-twitch.1-rc.1\n",
              "1  3422  5.0      60.0  ...              1           1  1.7.0-twitch.1-rc.1\n",
              "2  3427  5.0      60.0  ...              3           6  1.7.0-twitch.1-rc.1\n",
              "3  3418  1.0      60.0  ...              1           5  1.7.0-twitch.1-rc.1\n",
              "4  3421  4.0      60.0  ...              1           4  1.7.0-twitch.1-rc.1\n",
              "\n",
              "[5 rows x 30 columns]"
            ]
          },
          "metadata": {},
          "execution_count": 3
        }
      ],
      "source": [
        "# Pandas is used for data manipulation\n",
        "import pandas as pd\n",
        "\n",
        "# Read in data and display first rows\n",
        "df_input = pd.read_csv(dataset_filename)\n",
        "df_input.head()"
      ]
    },
    {
      "cell_type": "code",
      "source": [
        "df_input.columns"
      ],
      "metadata": {
        "colab": {
          "base_uri": "https://localhost:8080/"
        },
        "id": "8GPbmAkuLpFl",
        "outputId": "fd3b9f98-651b-494a-d20a-3f94932a71a0"
      },
      "execution_count": 4,
      "outputs": [
        {
          "output_type": "execute_result",
          "data": {
            "text/plain": [
              "Index(['id', 'bw', 'duration', 'packets', 'data_pkts', 'data_bytes',\n",
              "       'rexmit_pkts', 'rexmit_bytes', 'rtt_avg', 'rtt_min', 'rtt_max',\n",
              "       'stdev_rtt', 'rtt_count', 'reordering', 'ttl_min', 'ttl_max',\n",
              "       'max_seg_size', 'min_seg_size', 'win_max', 'win_min', 'rtx_RTO',\n",
              "       'rtx_FR', 'net_dup', 'flow_control', 'unnece_rtx_RTO', 'stallCount',\n",
              "       'qualityChanges', 'skippedFrames', 'fpsChanges', 'twitch_backend'],\n",
              "      dtype='object')"
            ]
          },
          "metadata": {},
          "execution_count": 4
        }
      ]
    },
    {
      "cell_type": "markdown",
      "metadata": {
        "id": "q8b6WR9gMD3r"
      },
      "source": [
        "Let's get the range of **quality changes** that we have in the dataset"
      ]
    },
    {
      "cell_type": "code",
      "execution_count": 5,
      "metadata": {
        "colab": {
          "base_uri": "https://localhost:8080/"
        },
        "id": "qBXJoG3nKVgT",
        "outputId": "779776b0-6939-47f1-da4a-127802a76fe4"
      },
      "outputs": [
        {
          "output_type": "stream",
          "name": "stdout",
          "text": [
            "Quality changes:  {1, 2, 3, 4, 5, 6, 7, 8, 9}\n"
          ]
        }
      ],
      "source": [
        "# Print the different number of quality changes in the dataset\n",
        "print(\"Quality changes: \", set(df_input['qualityChanges']))"
      ]
    },
    {
      "cell_type": "code",
      "execution_count": 6,
      "metadata": {
        "colab": {
          "base_uri": "https://localhost:8080/",
          "height": 72
        },
        "id": "bpytguXuN4ho",
        "outputId": "c7205e16-61ea-44cb-fa5f-0bf3ea4aae11"
      },
      "outputs": [
        {
          "output_type": "execute_result",
          "data": {
            "text/plain": [
              "<matplotlib.axes._subplots.AxesSubplot at 0x7fdb32d25a50>"
            ]
          },
          "metadata": {},
          "execution_count": 6
        },
        {
          "output_type": "display_data",
          "data": {
            "image/png": "[encoded data removed]",
            "text/plain": [
              "<Figure size 432x288 with 1 Axes>"
            ]
          },
          "metadata": {
            "needs_background": "light"
          }
        }
      ],
      "source": [
        "import matplotlib.pyplot as plt\n",
        "plt.title(\"Distribution in # of Quality Changes\")\n",
        "df_input['qualityChanges'].hist()"
      ]
    },
    {
      "cell_type": "markdown",
      "metadata": {
        "id": "RBpRm_o_MJFL"
      },
      "source": [
        "Let's get the range of **stall numbers** that we have in the dataset"
      ]
    },
    {
      "cell_type": "code",
      "execution_count": 7,
      "metadata": {
        "colab": {
          "base_uri": "https://localhost:8080/"
        },
        "id": "DID5j5eyMWM-",
        "outputId": "10bbc004-7bf0-4335-8ec3-d546116840ea"
      },
      "outputs": [
        {
          "output_type": "stream",
          "name": "stdout",
          "text": [
            "Stall count:  {0, 1, 2, 3, 4, 5, 7}\n"
          ]
        }
      ],
      "source": [
        "# Print the different number of quality changes in the dataset\n",
        "\n",
        "print(\"Stall count: \", set(df_input['stallCount']))"
      ]
    },
    {
      "cell_type": "code",
      "execution_count": 8,
      "metadata": {
        "colab": {
          "base_uri": "https://localhost:8080/",
          "height": 72
        },
        "id": "ddWCua2vN7GM",
        "outputId": "3f3d0ee0-ccfc-4e34-ec8d-a98f94d3a005"
      },
      "outputs": [
        {
          "output_type": "execute_result",
          "data": {
            "text/plain": [
              "<matplotlib.axes._subplots.AxesSubplot at 0x7fdb32be3fd0>"
            ]
          },
          "metadata": {},
          "execution_count": 8
        },
        {
          "output_type": "display_data",
          "data": {
            "image/png": "[encoded data removed]",
            "text/plain": [
              "<Figure size 432x288 with 1 Axes>"
            ]
          },
          "metadata": {
            "needs_background": "light"
          }
        }
      ],
      "source": [
        "import matplotlib.pyplot as plt\n",
        "plt.title(\"Distribution in # of Stalls\")\n",
        "df_input['stallCount'].hist()"
      ]
    },
    {
      "cell_type": "markdown",
      "metadata": {
        "id": "77ca6ec0OJ_g"
      },
      "source": [
        "# 2. Labeling the dataset\n",
        "\n",
        "Now that we get an insight over the application data from twitch, it is time to decide how we are going to define the different quality classes. The new column that represents the label is called *qoe_class*\n",
        "\n",
        "Remember that we need to make sure that our classes will result in a balanced dataset so that the ML algorithm is as robust as possible."
      ]
    },
    {
      "cell_type": "markdown",
      "metadata": {
        "id": "4QXzL0f6PB6z"
      },
      "source": [
        "## 2.1 Binary Classification (Good Quality if no stalls) \n",
        "\n",
        "---\n",
        "\n",
        "\n",
        "One option is to implement the **Binary classification** based on the number of stalls. In other words, we map good quality if # of stalls < Threshold. Otherwise, the session is of low quality."
      ]
    },
    {
      "cell_type": "code",
      "execution_count": 9,
      "metadata": {
        "id": "Sx-EwnhnOjWz"
      },
      "outputs": [],
      "source": [
        "threshold=1\n",
        "\n",
        "df_input.loc[(df_input['stallCount']<threshold), 'qoe_class_1'] = \"0\" # Stands for good quality\n",
        "df_input.loc[(df_input['stallCount']>=threshold), 'qoe_class_1'] = \"1\" # Stands for bad quality"
      ]
    },
    {
      "cell_type": "code",
      "source": [
        "df_input['qoe_class_1']"
      ],
      "metadata": {
        "colab": {
          "base_uri": "https://localhost:8080/"
        },
        "id": "cE7xK1Rk3_a3",
        "outputId": "3677e964-5810-45d2-f18b-9b7a916d82f4"
      },
      "execution_count": 10,
      "outputs": [
        {
          "output_type": "execute_result",
          "data": {
            "text/plain": [
              "0        0\n",
              "1        0\n",
              "2        0\n",
              "3        1\n",
              "4        0\n",
              "        ..\n",
              "11753    0\n",
              "11754    1\n",
              "11755    0\n",
              "11756    0\n",
              "11757    0\n",
              "Name: qoe_class_1, Length: 11758, dtype: object"
            ]
          },
          "metadata": {},
          "execution_count": 10
        }
      ]
    },
    {
      "cell_type": "markdown",
      "metadata": {
        "id": "FnJwTa8vQwgP"
      },
      "source": [
        "### Labeling Results\n",
        "Let's see how balanced dataset we managed to have, based on this labeling technique"
      ]
    },
    {
      "cell_type": "code",
      "execution_count": 11,
      "metadata": {
        "colab": {
          "base_uri": "https://localhost:8080/",
          "height": 298
        },
        "id": "674v2IoVRhoA",
        "outputId": "86947332-f229-48b0-90d8-3c489bd937c4"
      },
      "outputs": [
        {
          "output_type": "stream",
          "name": "stdout",
          "text": [
            "Counter({'1': 8177, '0': 3581})\n"
          ]
        },
        {
          "output_type": "display_data",
          "data": {
            "image/png": "[encoded data removed]",
            "text/plain": [
              "<Figure size 432x288 with 1 Axes>"
            ]
          },
          "metadata": {
            "needs_background": "light"
          }
        }
      ],
      "source": [
        "import matplotlib.pyplot as plt\n",
        "from collections import Counter\n",
        "\n",
        "plt.title(\"Distribution in Stall Count Labeling\")\n",
        "plt.bar(dict(Counter(df_input['qoe_class_1'])).keys(), dict(Counter(df_input['qoe_class_1'])).values())\n",
        "\n",
        "print(Counter(df_input['qoe_class_1']))\n"
      ]
    },
    {
      "cell_type": "markdown",
      "metadata": {
        "id": "oGc5MQrEWX5c"
      },
      "source": [
        "### Imbalanced Dataset ( **Disclaimer**: It is not needed for this dataset. It is just left for proof of concept)\n",
        "\n",
        "What happens in the case where the dataset is inevitable imbalanced. In binary classification (where we have to label/classes) we can define the majority and the minority class. Here we have two approaches to balance the datases:\n",
        "\n",
        "*  Up-sampling the minority class\n",
        "*  Down-sampling the majority class\n",
        "\n"
      ]
    },
    {
      "cell_type": "code",
      "execution_count": 12,
      "metadata": {
        "colab": {
          "base_uri": "https://localhost:8080/",
          "height": 298
        },
        "id": "EbKuhQbZW-GB",
        "outputId": "1e2e44f3-60e3-4b5f-c0f0-71905d7dd807"
      },
      "outputs": [
        {
          "output_type": "execute_result",
          "data": {
            "text/plain": [
              "<BarContainer object of 2 artists>"
            ]
          },
          "metadata": {},
          "execution_count": 12
        },
        {
          "output_type": "display_data",
          "data": {
            "image/png": "[encoded data removed]",
            "text/plain": [
              "<Figure size 432x288 with 1 Axes>"
            ]
          },
          "metadata": {
            "needs_background": "light"
          }
        }
      ],
      "source": [
        "from sklearn.utils import resample\n",
        "\n",
        "# Up-sampling\n",
        "\n",
        "# Separate majority and minority classes\n",
        "df_class_1 = df_input[df_input['qoe_class_1']=='0']\n",
        "df_class_2 = df_input[df_input['qoe_class_1']=='1']\n",
        "\n",
        "# Upsample minority class\n",
        "df_class_1_upsampled = resample(df_class_1, \n",
        "                     replace=True,     # sample with replacement\n",
        "                     n_samples=5000,   # to match majority class\n",
        "                     random_state=123) # reproducible results\n",
        "\n",
        "# Upsample minority class\n",
        "df_class_2_upsampled = resample(df_class_2, \n",
        "                     replace=True,     # sample with replacement\n",
        "                     n_samples=5000,   # to match majority class\n",
        "                     random_state=123) # reproducible results\n",
        "\n",
        "# Combine majority class with upsampled minority class\n",
        "df_binary_resampled = pd.concat([df_class_1_upsampled, df_class_2_upsampled])\n",
        "\n",
        "plt.title(\"Upsampling dataset for Stall Count\")\n",
        "plt.bar(dict(Counter(df_binary_resampled['qoe_class_1'])).keys(), dict(Counter(df_binary_resampled['qoe_class_1'])).values())"
      ]
    },
    {
      "cell_type": "markdown",
      "metadata": {
        "id": "lH7gxD4KPgYN"
      },
      "source": [
        "## 2.2 Three-class Classification (Good Quality -> max. 1 quality change; Bad Quality -> more than 3 quality changes)\n",
        "A second option is to implement the **3 class Classification** based on the number of quality changes. Now we need to define 2 thresholds: One for high quality and one for low quality. If the session does not satisfy either one of those two then it belongs to medium class.\n",
        "\n"
      ]
    },
    {
      "cell_type": "code",
      "execution_count": 13,
      "metadata": {
        "colab": {
          "base_uri": "https://localhost:8080/",
          "height": 357
        },
        "id": "5jqFDHHdQEbZ",
        "outputId": "c545332f-01b6-4232-971e-de21de002bd1"
      },
      "outputs": [
        {
          "output_type": "execute_result",
          "data": {
            "text/html": [
              "\n",
              "  <div id=\"df-cc814f06-ec8c-4e39-9b46-8cdf64f5319d\">\n",
              "    <div class=\"colab-df-container\">\n",
              "      <div>\n",
              "<style scoped>\n",
              "    .dataframe tbody tr th:only-of-type {\n",
              "        vertical-align: middle;\n",
              "    }\n",
              "\n",
              "    .dataframe tbody tr th {\n",
              "        vertical-align: top;\n",
              "    }\n",
              "\n",
              "    .dataframe thead th {\n",
              "        text-align: right;\n",
              "    }\n",
              "</style>\n",
              "<table border=\"1\" class=\"dataframe\">\n",
              "  <thead>\n",
              "    <tr style=\"text-align: right;\">\n",
              "      <th></th>\n",
              "      <th>id</th>\n",
              "      <th>bw</th>\n",
              "      <th>duration</th>\n",
              "      <th>packets</th>\n",
              "      <th>data_pkts</th>\n",
              "      <th>data_bytes</th>\n",
              "      <th>rexmit_pkts</th>\n",
              "      <th>rexmit_bytes</th>\n",
              "      <th>rtt_avg</th>\n",
              "      <th>rtt_min</th>\n",
              "      <th>rtt_max</th>\n",
              "      <th>stdev_rtt</th>\n",
              "      <th>rtt_count</th>\n",
              "      <th>reordering</th>\n",
              "      <th>ttl_min</th>\n",
              "      <th>ttl_max</th>\n",
              "      <th>max_seg_size</th>\n",
              "      <th>min_seg_size</th>\n",
              "      <th>win_max</th>\n",
              "      <th>win_min</th>\n",
              "      <th>rtx_RTO</th>\n",
              "      <th>rtx_FR</th>\n",
              "      <th>net_dup</th>\n",
              "      <th>flow_control</th>\n",
              "      <th>unnece_rtx_RTO</th>\n",
              "      <th>stallCount</th>\n",
              "      <th>qualityChanges</th>\n",
              "      <th>skippedFrames</th>\n",
              "      <th>fpsChanges</th>\n",
              "      <th>twitch_backend</th>\n",
              "      <th>qoe_class_1</th>\n",
              "      <th>qoe_class_2</th>\n",
              "    </tr>\n",
              "  </thead>\n",
              "  <tbody>\n",
              "    <tr>\n",
              "      <th>0</th>\n",
              "      <td>3577</td>\n",
              "      <td>5.0</td>\n",
              "      <td>60.0</td>\n",
              "      <td>10.0</td>\n",
              "      <td>4.0</td>\n",
              "      <td>2421.000000</td>\n",
              "      <td>0.0</td>\n",
              "      <td>0.0</td>\n",
              "      <td>15.536362</td>\n",
              "      <td>14.849000</td>\n",
              "      <td>16.015000</td>\n",
              "      <td>0.494797</td>\n",
              "      <td>4.0</td>\n",
              "      <td>0.0</td>\n",
              "      <td>64.0</td>\n",
              "      <td>1448.000000</td>\n",
              "      <td>80.000000</td>\n",
              "      <td>64256.000000</td>\n",
              "      <td>57216.000000</td>\n",
              "      <td>0.0</td>\n",
              "      <td>0.0</td>\n",
              "      <td>0.0</td>\n",
              "      <td>0.0</td>\n",
              "      <td>0.0</td>\n",
              "      <td>0.0</td>\n",
              "      <td>0</td>\n",
              "      <td>2</td>\n",
              "      <td>47</td>\n",
              "      <td>6</td>\n",
              "      <td>1.7.0-twitch.1-rc.1</td>\n",
              "      <td>0</td>\n",
              "      <td>1</td>\n",
              "    </tr>\n",
              "    <tr>\n",
              "      <th>1</th>\n",
              "      <td>3422</td>\n",
              "      <td>5.0</td>\n",
              "      <td>60.0</td>\n",
              "      <td>12.0</td>\n",
              "      <td>4.0</td>\n",
              "      <td>2322.000000</td>\n",
              "      <td>0.0</td>\n",
              "      <td>0.0</td>\n",
              "      <td>16.080478</td>\n",
              "      <td>14.766000</td>\n",
              "      <td>18.314000</td>\n",
              "      <td>1.322781</td>\n",
              "      <td>5.0</td>\n",
              "      <td>0.0</td>\n",
              "      <td>64.0</td>\n",
              "      <td>1448.000000</td>\n",
              "      <td>80.000000</td>\n",
              "      <td>64256.000000</td>\n",
              "      <td>57216.000000</td>\n",
              "      <td>0.0</td>\n",
              "      <td>0.0</td>\n",
              "      <td>0.0</td>\n",
              "      <td>0.0</td>\n",
              "      <td>0.0</td>\n",
              "      <td>0.0</td>\n",
              "      <td>0</td>\n",
              "      <td>1</td>\n",
              "      <td>1</td>\n",
              "      <td>1</td>\n",
              "      <td>1.7.0-twitch.1-rc.1</td>\n",
              "      <td>0</td>\n",
              "      <td>0</td>\n",
              "    </tr>\n",
              "    <tr>\n",
              "      <th>2</th>\n",
              "      <td>3427</td>\n",
              "      <td>5.0</td>\n",
              "      <td>60.0</td>\n",
              "      <td>10.0</td>\n",
              "      <td>4.0</td>\n",
              "      <td>2411.000000</td>\n",
              "      <td>0.0</td>\n",
              "      <td>0.0</td>\n",
              "      <td>15.403615</td>\n",
              "      <td>15.084000</td>\n",
              "      <td>15.881000</td>\n",
              "      <td>0.338309</td>\n",
              "      <td>4.0</td>\n",
              "      <td>0.0</td>\n",
              "      <td>64.0</td>\n",
              "      <td>1448.000000</td>\n",
              "      <td>80.000000</td>\n",
              "      <td>64256.000000</td>\n",
              "      <td>58368.000000</td>\n",
              "      <td>0.0</td>\n",
              "      <td>0.0</td>\n",
              "      <td>0.0</td>\n",
              "      <td>0.0</td>\n",
              "      <td>0.0</td>\n",
              "      <td>0.0</td>\n",
              "      <td>0</td>\n",
              "      <td>2</td>\n",
              "      <td>3</td>\n",
              "      <td>6</td>\n",
              "      <td>1.7.0-twitch.1-rc.1</td>\n",
              "      <td>0</td>\n",
              "      <td>1</td>\n",
              "    </tr>\n",
              "    <tr>\n",
              "      <th>3</th>\n",
              "      <td>3418</td>\n",
              "      <td>1.0</td>\n",
              "      <td>60.0</td>\n",
              "      <td>2612.0</td>\n",
              "      <td>69.0</td>\n",
              "      <td>12533.333333</td>\n",
              "      <td>1.0</td>\n",
              "      <td>1411.0</td>\n",
              "      <td>37.896837</td>\n",
              "      <td>30.723667</td>\n",
              "      <td>77.964000</td>\n",
              "      <td>14.536611</td>\n",
              "      <td>72.0</td>\n",
              "      <td>0.0</td>\n",
              "      <td>64.0</td>\n",
              "      <td>1189.666667</td>\n",
              "      <td>72.166667</td>\n",
              "      <td>216445.333333</td>\n",
              "      <td>59450.666667</td>\n",
              "      <td>0.0</td>\n",
              "      <td>0.0</td>\n",
              "      <td>0.0</td>\n",
              "      <td>0.0</td>\n",
              "      <td>1.0</td>\n",
              "      <td>0.0</td>\n",
              "      <td>1</td>\n",
              "      <td>4</td>\n",
              "      <td>1</td>\n",
              "      <td>5</td>\n",
              "      <td>1.7.0-twitch.1-rc.1</td>\n",
              "      <td>1</td>\n",
              "      <td>2</td>\n",
              "    </tr>\n",
              "    <tr>\n",
              "      <th>4</th>\n",
              "      <td>3421</td>\n",
              "      <td>4.0</td>\n",
              "      <td>60.0</td>\n",
              "      <td>59.0</td>\n",
              "      <td>11.0</td>\n",
              "      <td>2904.666667</td>\n",
              "      <td>0.0</td>\n",
              "      <td>0.0</td>\n",
              "      <td>58.047439</td>\n",
              "      <td>54.201667</td>\n",
              "      <td>69.851667</td>\n",
              "      <td>6.926492</td>\n",
              "      <td>15.0</td>\n",
              "      <td>0.0</td>\n",
              "      <td>64.0</td>\n",
              "      <td>980.333333</td>\n",
              "      <td>82.333333</td>\n",
              "      <td>64256.000000</td>\n",
              "      <td>61824.000000</td>\n",
              "      <td>0.0</td>\n",
              "      <td>0.0</td>\n",
              "      <td>0.0</td>\n",
              "      <td>0.0</td>\n",
              "      <td>0.0</td>\n",
              "      <td>0.0</td>\n",
              "      <td>0</td>\n",
              "      <td>2</td>\n",
              "      <td>1</td>\n",
              "      <td>4</td>\n",
              "      <td>1.7.0-twitch.1-rc.1</td>\n",
              "      <td>0</td>\n",
              "      <td>1</td>\n",
              "    </tr>\n",
              "  </tbody>\n",
              "</table>\n",
              "</div>\n",
              "      <button class=\"colab-df-convert\" onclick=\"convertToInteractive('df-cc814f06-ec8c-4e39-9b46-8cdf64f5319d')\"\n",
              "              title=\"Convert this dataframe to an interactive table.\"\n",
              "              style=\"display:none;\">\n",
              "        \n",
              "  <svg xmlns=\"http://www.w3.org/2000/svg\" height=\"24px\"viewBox=\"0 0 24 24\"\n",
              "       width=\"24px\">\n",
              "    <path d=\"M0 0h24v24H0V0z\" fill=\"none\"/>\n",
              "    <path d=\"M18.56 5.44l.94 2.06.94-2.06 2.06-.94-2.06-.94-.94-2.06-.94 2.06-2.06.94zm-11 1L8.5 8.5l.94-2.06 2.06-.94-2.06-.94L8.5 2.5l-.94 2.06-2.06.94zm10 10l.94 2.06.94-2.06 2.06-.94-2.06-.94-.94-2.06-.94 2.06-2.06.94z\"/><path d=\"M17.41 7.96l-1.37-1.37c-.4-.4-.92-.59-1.43-.59-.52 0-1.04.2-1.43.59L10.3 9.45l-7.72 7.72c-.78.78-.78 2.05 0 2.83L4 21.41c.39.39.9.59 1.41.59.51 0 1.02-.2 1.41-.59l7.78-7.78 2.81-2.81c.8-.78.8-2.07 0-2.86zM5.41 20L4 18.59l7.72-7.72 1.47 1.35L5.41 20z\"/>\n",
              "  </svg>\n",
              "      </button>\n",
              "      \n",
              "  <style>\n",
              "    .colab-df-container {\n",
              "      display:flex;\n",
              "      flex-wrap:wrap;\n",
              "      gap: 12px;\n",
              "    }\n",
              "\n",
              "    .colab-df-convert {\n",
              "      background-color: #E8F0FE;\n",
              "      border: none;\n",
              "      border-radius: 50%;\n",
              "      cursor: pointer;\n",
              "      display: none;\n",
              "      fill: #1967D2;\n",
              "      height: 32px;\n",
              "      padding: 0 0 0 0;\n",
              "      width: 32px;\n",
              "    }\n",
              "\n",
              "    .colab-df-convert:hover {\n",
              "      background-color: #E2EBFA;\n",
              "      box-shadow: 0px 1px 2px rgba(60, 64, 67, 0.3), 0px 1px 3px 1px rgba(60, 64, 67, 0.15);\n",
              "      fill: #174EA6;\n",
              "    }\n",
              "\n",
              "    [theme=dark] .colab-df-convert {\n",
              "      background-color: #3B4455;\n",
              "      fill: #D2E3FC;\n",
              "    }\n",
              "\n",
              "    [theme=dark] .colab-df-convert:hover {\n",
              "      background-color: #434B5C;\n",
              "      box-shadow: 0px 1px 3px 1px rgba(0, 0, 0, 0.15);\n",
              "      filter: drop-shadow(0px 1px 2px rgba(0, 0, 0, 0.3));\n",
              "      fill: #FFFFFF;\n",
              "    }\n",
              "  </style>\n",
              "\n",
              "      <script>\n",
              "        const buttonEl =\n",
              "          document.querySelector('#df-cc814f06-ec8c-4e39-9b46-8cdf64f5319d button.colab-df-convert');\n",
              "        buttonEl.style.display =\n",
              "          google.colab.kernel.accessAllowed ? 'block' : 'none';\n",
              "\n",
              "        async function convertToInteractive(key) {\n",
              "          const element = document.querySelector('#df-cc814f06-ec8c-4e39-9b46-8cdf64f5319d');\n",
              "          const dataTable =\n",
              "            await google.colab.kernel.invokeFunction('convertToInteractive',\n",
              "                                                     [key], {});\n",
              "          if (!dataTable) return;\n",
              "\n",
              "          const docLinkHtml = 'Like what you see? Visit the ' +\n",
              "            '<a target=\"_blank\" href=https://colab.research.google.com/notebooks/data_table.ipynb>data table notebook</a>'\n",
              "            + ' to learn more about interactive tables.';\n",
              "          element.innerHTML = '';\n",
              "          dataTable['output_type'] = 'display_data';\n",
              "          await google.colab.output.renderOutput(dataTable, element);\n",
              "          const docLink = document.createElement('div');\n",
              "          docLink.innerHTML = docLinkHtml;\n",
              "          element.appendChild(docLink);\n",
              "        }\n",
              "      </script>\n",
              "    </div>\n",
              "  </div>\n",
              "  "
            ],
            "text/plain": [
              "     id   bw  duration  ...       twitch_backend  qoe_class_1  qoe_class_2\n",
              "0  3577  5.0      60.0  ...  1.7.0-twitch.1-rc.1            0            1\n",
              "1  3422  5.0      60.0  ...  1.7.0-twitch.1-rc.1            0            0\n",
              "2  3427  5.0      60.0  ...  1.7.0-twitch.1-rc.1            0            1\n",
              "3  3418  1.0      60.0  ...  1.7.0-twitch.1-rc.1            1            2\n",
              "4  3421  4.0      60.0  ...  1.7.0-twitch.1-rc.1            0            1\n",
              "\n",
              "[5 rows x 32 columns]"
            ]
          },
          "metadata": {},
          "execution_count": 13
        }
      ],
      "source": [
        "high_quality_threshold=2\n",
        "low_quality_threshold=3\n",
        "\n",
        "\n",
        "df_input.loc[(df_input['qualityChanges']<high_quality_threshold), 'qoe_class_2'] = \"0\" # Stands for good quality\n",
        "df_input.loc[(df_input['qualityChanges']>=high_quality_threshold) &(df_input['qualityChanges']<=low_quality_threshold), 'qoe_class_2'] = \"1\" # Stands for medium quality\n",
        "df_input.loc[(df_input['qualityChanges']>low_quality_threshold), 'qoe_class_2'] = \"2\" # Stands for bad quality\n",
        "\n",
        "df_input.head()"
      ]
    },
    {
      "cell_type": "markdown",
      "metadata": {
        "id": "jYbg87Z6RgIs"
      },
      "source": [
        "### Labeling Results\n",
        "Let's see how balanced dataset we managed to have, based on this labeling technique"
      ]
    },
    {
      "cell_type": "code",
      "execution_count": 14,
      "metadata": {
        "colab": {
          "base_uri": "https://localhost:8080/",
          "height": 298
        },
        "id": "smqbd02XSTTw",
        "outputId": "82d29aab-f59c-4204-9c2b-70f8fb393304"
      },
      "outputs": [
        {
          "output_type": "stream",
          "name": "stdout",
          "text": [
            "Counter({'1': 5995, '2': 5477, '0': 286})\n"
          ]
        },
        {
          "output_type": "display_data",
          "data": {
            "image/png": "[encoded data removed]",
            "text/plain": [
              "<Figure size 432x288 with 1 Axes>"
            ]
          },
          "metadata": {
            "needs_background": "light"
          }
        }
      ],
      "source": [
        "import matplotlib.pyplot as plt\n",
        "from collections import Counter\n",
        "\n",
        "plt.title(\"Distribution in 3 QoE Classes Labeling\")\n",
        "plt.bar(dict(Counter(df_input['qoe_class_2'])).keys(), dict(Counter(df_input['qoe_class_2'])).values())\n",
        "\n",
        "print(Counter(df_input['qoe_class_2']))"
      ]
    },
    {
      "cell_type": "markdown",
      "metadata": {
        "id": "s2OPXVzXYpnk"
      },
      "source": [
        "### Imbalanced Dataset ( **Disclaimer**: This needs to be adjusted each time you import a new dataset)\n",
        "\n",
        "We perform similar operations. Specifically, in this case we will be up-sampling the two smaller classes to reach the largest one."
      ]
    },
    {
      "cell_type": "code",
      "execution_count": 15,
      "metadata": {
        "colab": {
          "base_uri": "https://localhost:8080/",
          "height": 298
        },
        "id": "yiAIPijVZBCB",
        "outputId": "9459dfbe-7214-463e-da86-285b43cae964"
      },
      "outputs": [
        {
          "output_type": "execute_result",
          "data": {
            "text/plain": [
              "<BarContainer object of 3 artists>"
            ]
          },
          "metadata": {},
          "execution_count": 15
        },
        {
          "output_type": "display_data",
          "data": {
            "image/png": "[encoded data removed]",
            "text/plain": [
              "<Figure size 432x288 with 1 Axes>"
            ]
          },
          "metadata": {
            "needs_background": "light"
          }
        }
      ],
      "source": [
        "from sklearn.utils import resample\n",
        "\n",
        "# Up-sampling\n",
        "\n",
        "# Separate majority and minority classes\n",
        "df_class_0 = df_input[df_input['qoe_class_2']=='0']\n",
        "df_class_1 = df_input[df_input['qoe_class_2']=='1']\n",
        "df_class_2 = df_input[df_input['qoe_class_2']=='2']\n",
        "\n",
        "# Upsample minority class\n",
        "df_class_0_upsampled = resample(df_class_0, \n",
        "                                 replace=True,     # sample with replacement\n",
        "                                 n_samples=5000,    # to match majority class\n",
        "                                 random_state=123) # reproducible results\n",
        "\n",
        "# Downsample minority class\n",
        "df_class_1_downsampled = resample(df_class_1, \n",
        "                                 replace=True,     # sample with replacement\n",
        "                                 n_samples=5000,    # to match majority class\n",
        "                                 random_state=123) # reproducible results\n",
        "# Downsample minority class\n",
        "df_class_2_downsampled = resample(df_class_2, \n",
        "                                 replace=True,     # sample with replacement\n",
        "                                 n_samples=5000,    # to match majority class\n",
        "                                 random_state=123) # reproducible results\n",
        "\n",
        "\n",
        "# Combine majority class with upsampled minority class\n",
        "df_ternary_resampled = pd.concat([df_class_0_upsampled, df_class_1_downsampled, df_class_2_downsampled])\n",
        "\n",
        "plt.title(\"Upsampling dataset for Stall Count\")\n",
        "plt.bar(dict(Counter(df_ternary_resampled['qoe_class_2'])).keys(), dict(Counter(df_ternary_resampled['qoe_class_2'])).values())"
      ]
    },
    {
      "cell_type": "markdown",
      "metadata": {
        "id": "Sn8K9CkPOgtq"
      },
      "source": [
        "# 3. Machine Learning Models\n",
        "\n",
        "In this section we will calculate the importance of the network features that exist on the database. We will calculate the importance based on two ML models: \n",
        "\n",
        "*   Random Forest (RF)\n",
        "*   Support Vector Machine (SVM)\n",
        "*   XGBoost\n",
        "*   Decision Tree\n",
        "\n",
        "But, before we go into investigating separate ML models we need to prepare the dataset."
      ]
    },
    {
      "cell_type": "markdown",
      "source": [
        "## 3.0 Introduction\n",
        "\n",
        "First of all, we need to segment the dataset into features (X matrix) and labels (Y vector):"
      ],
      "metadata": {
        "id": "XqaINEzE29OB"
      }
    },
    {
      "cell_type": "code",
      "execution_count": 16,
      "metadata": {
        "id": "THSFuVuRPK8S"
      },
      "outputs": [],
      "source": [
        "# From the imported dataset in df_input, separate network features columns from labels\n",
        "# To extract all the rows for the specific columns we use the following command:\n",
        "\n",
        "X_normal = df_input.iloc[:, 3:-7]\n",
        "Y_normal = df_input.iloc[:, -2:]\n",
        "\n",
        "X_binary_resampled = df_binary_resampled.iloc[:, 3:-6]\n",
        "Y_binary_resampled = df_binary_resampled.iloc[:, -1]\n",
        "\n",
        "X_ternary_resampled = df_ternary_resampled.iloc[:, 3:-7]\n",
        "Y_ternary_resampled = df_ternary_resampled.iloc[:, -1]"
      ]
    },
    {
      "cell_type": "code",
      "source": [
        "from sklearn.ensemble import RandomForestClassifier\n",
        "from sklearn.metrics import precision_score\n",
        "from sklearn.metrics import recall_score\n",
        "from sklearn.metrics import f1_score\n",
        "from sklearn.metrics import accuracy_score\n",
        "from sklearn.metrics import roc_curve, auc, roc_auc_score\n",
        "import matplotlib.pyplot as plt\n",
        "from sklearn.decomposition import PCA\n",
        "from sklearn.metrics import classification_report\n",
        "from sklearn.model_selection import train_test_split\n",
        "from numpy import argmax\n",
        "import numpy as np\n",
        "def build_and_test(X_tr, X_te, y_tr, y_te, class_weight=None, threshold=False):\n",
        "    # Build and Plot PCA\n",
        "    pca = PCA(n_components=2)\n",
        "    pca.fit(X_tr)\n",
        "    X_pca = pca.transform(X_tr)\n",
        "    plt.scatter(X_pca[:, 0], X_pca[:, 1], c=y_tr, cmap=plt.cm.prism, edgecolor='k', alpha=0.7)\n",
        "    plt.show()\n",
        "    \n"
      ],
      "metadata": {
        "id": "LjYJm7meOEWq"
      },
      "execution_count": 17,
      "outputs": []
    },
    {
      "cell_type": "code",
      "source": [
        "# Plot the distribution of classes after a dimensionality reduction with PCA (two dimensions)\n",
        "X_train, X_test, y_train, y_test = train_test_split(X_binary_resampled, Y_binary_resampled, test_size=0.3) # 70% training and 30% test\n",
        "build_and_test(X_train, X_test, y_train, y_test)"
      ],
      "metadata": {
        "colab": {
          "base_uri": "https://localhost:8080/",
          "height": 278
        },
        "id": "cGZICvhVOG96",
        "outputId": "4f5e39f3-b891-4a60-925c-234c475cddd4"
      },
      "execution_count": 18,
      "outputs": [
        {
          "output_type": "display_data",
          "data": {
            "image/png": "[encoded data removed]",
            "text/plain": [
              "<Figure size 432x288 with 1 Axes>"
            ]
          },
          "metadata": {
            "needs_background": "light"
          }
        }
      ]
    },
    {
      "cell_type": "markdown",
      "source": [
        "Secondly, we have to define some functions to plot the importance of network features."
      ],
      "metadata": {
        "id": "nBxnCEo97UVP"
      }
    },
    {
      "cell_type": "code",
      "source": [
        "def fromListToSortedDict(elementList, reverse=False):\n",
        "  i=0\n",
        "  d={}\n",
        "\n",
        "  network_feature_name_list = list(X.keys())\n",
        "\n",
        "  for element in elementList:\n",
        "    d[network_feature_name_list[i]] = element\n",
        "    i = i+1\n",
        "\n",
        "  return dict(sorted(d.items(), key=lambda item: abs(item[1]), reverse=reverse))\n",
        "\n",
        "def printTopFeatures(dict_as_list, top=10):\n",
        "\n",
        "  d = fromListToSortedDict(dict_as_list, reverse=True)\n",
        "\n",
        "  result = []\n",
        "\n",
        "  i=0\n",
        "  for key,val in d.items():\n",
        "    i +=1\n",
        "    print(\"#{place} Feature: {feature}, coefficient: {coef}\".format(place=i, feature=key, coef=val))\n",
        "    result.append(key)\n",
        "\n",
        "    if(i==top):\n",
        "      break\n",
        "\n",
        "  return result\n",
        "\n",
        "def drawNetworkFeatureImportance(importance_list, plot_title):\n",
        "    importance_dict = fromListToSortedDict(importance_list)\n",
        "\n",
        "    name_list = list(importance_dict.keys())\n",
        "    coefficient_list = list(importance_dict.values())\n",
        "\n",
        "    plt.title(plot_title)\n",
        "    plt.barh(range(len(name_list)), coefficient_list, align='center')\n",
        "    plt.yticks(range(len(name_list)), name_list)\n",
        "    plt.show()"
      ],
      "metadata": {
        "id": "0pM8N6rcSgcU"
      },
      "execution_count": 19,
      "outputs": []
    },
    {
      "cell_type": "markdown",
      "metadata": {
        "id": "puOEOJtWRfX-"
      },
      "source": [
        "## 3.1 Random Forest\n",
        "\n",
        "Here we have two cases to examine; one per each labeling technique (binary or 3-class classification)\n",
        "\n",
        "First let's define some useful methods:"
      ]
    },
    {
      "cell_type": "markdown",
      "metadata": {
        "id": "FJcvGe9DbTmV"
      },
      "source": [
        "### 3.1.1 Binary classification"
      ]
    },
    {
      "cell_type": "code",
      "execution_count": 20,
      "metadata": {
        "colab": {
          "base_uri": "https://localhost:8080/",
          "height": 507
        },
        "id": "GouVg1o-RisH",
        "outputId": "e6f56caa-add0-48bf-9285-b60648794130"
      },
      "outputs": [
        {
          "output_type": "stream",
          "name": "stdout",
          "text": [
            "Binary Classification\n"
          ]
        },
        {
          "output_type": "display_data",
          "data": {
            "image/png": "[encoded data removed]",
            "text/plain": [
              "<Figure size 432x288 with 1 Axes>"
            ]
          },
          "metadata": {
            "needs_background": "light"
          }
        },
        {
          "output_type": "stream",
          "name": "stdout",
          "text": [
            "#1 Feature: max_seg_size, coefficient: 0.19803644256128528\n",
            "#2 Feature: rtt_min, coefficient: 0.17780958505152333\n",
            "#3 Feature: rtt_avg, coefficient: 0.12271099862060825\n",
            "#4 Feature: stdev_rtt, coefficient: 0.1068934250892862\n",
            "#5 Feature: packets, coefficient: 0.07271098833761526\n",
            "#6 Feature: rtt_count, coefficient: 0.06721699398670328\n",
            "#7 Feature: min_seg_size, coefficient: 0.06075690379204685\n",
            "#8 Feature: data_bytes, coefficient: 0.047879193508856346\n",
            "#9 Feature: rtt_max, coefficient: 0.04688767289272151\n",
            "#10 Feature: data_pkts, coefficient: 0.02826452118798926\n",
            "#11 Feature: ttl_max, coefficient: 0.028057897435505356\n",
            "#12 Feature: win_max, coefficient: 0.02386680913694871\n"
          ]
        }
      ],
      "source": [
        "# random forest for feature importance on a regression problem\n",
        "from sklearn.datasets import make_regression\n",
        "from sklearn.ensemble import RandomForestClassifier\n",
        "from matplotlib import pyplot\n",
        "\n",
        "# define the model\n",
        "model = RandomForestClassifier()\n",
        "\n",
        "# Keep the binary classification label\n",
        "X = X_normal\n",
        "y = Y_normal.iloc[:, 0]\n",
        "\n",
        "# fit the model\n",
        "model.fit(X, y)\n",
        "\n",
        "# get importance\n",
        "rf_importance_binary = model.feature_importances_\n",
        "\n",
        "print(\"Binary Classification\")\n",
        "drawNetworkFeatureImportance(rf_importance_binary, \"Importance of Network Features in Binary RF Model\")\n",
        "top_features = printTopFeatures(rf_importance_binary, 12)"
      ]
    },
    {
      "cell_type": "markdown",
      "metadata": {
        "id": "xLCrADslKv39"
      },
      "source": [
        "#### **Evaluate model performance**\n",
        "\n",
        "Now let's test the accuracy that our ML models can have.  We will do the following steps:\n",
        "\n",
        "1. First we need to keep the features and labels that we want\n",
        "2. Split the dataset into train and test (e.g. 30% split)\n",
        "3. Train the model\n",
        "4. Make some predictions over the test dataset\n",
        "5. Print accuracy of our model"
      ]
    },
    {
      "cell_type": "code",
      "execution_count": 21,
      "metadata": {
        "colab": {
          "base_uri": "https://localhost:8080/"
        },
        "id": "lvGI8heqMjjS",
        "outputId": "2fe6cb56-4021-47a0-dc0c-42d8b37e0a10"
      },
      "outputs": [
        {
          "output_type": "stream",
          "name": "stdout",
          "text": [
            "Accuracy: 0.93140589569161\n"
          ]
        }
      ],
      "source": [
        "from sklearn.model_selection import train_test_split\n",
        "\n",
        "X = X_normal\n",
        "\n",
        "y = Y_normal.iloc[:, 0] \n",
        "\n",
        "X_train, X_test, y_train, y_test = train_test_split(X, y, test_size=0.3) # 70% training and 30% test\n",
        "\n",
        "model = RandomForestClassifier(n_estimators=100)\n",
        "\n",
        "model.fit(X_train,y_train)\n",
        "\n",
        "# Model Accuracy, how often is the classifier correct?\n",
        "print(\"Accuracy:\",model.score(X_test, y_test))\n"
      ]
    },
    {
      "cell_type": "markdown",
      "metadata": {
        "id": "ozvLwCs-U4zc"
      },
      "source": [
        "Testing the performance with the resampled dataset."
      ]
    },
    {
      "cell_type": "code",
      "execution_count": 22,
      "metadata": {
        "colab": {
          "base_uri": "https://localhost:8080/",
          "height": 334
        },
        "id": "dlgRon9IU6nQ",
        "outputId": "48229b62-6290-4f5c-947c-962d90bb25ed"
      },
      "outputs": [
        {
          "output_type": "stream",
          "name": "stdout",
          "text": [
            "Accuracy: 0.9623333333333334\n",
            "[[1416   28]\n",
            " [  85 1471]]\n"
          ]
        },
        {
          "output_type": "execute_result",
          "data": {
            "text/plain": [
              "<matplotlib.axes._subplots.AxesSubplot at 0x7fdb119934d0>"
            ]
          },
          "metadata": {},
          "execution_count": 22
        },
        {
          "output_type": "display_data",
          "data": {
            "image/png": "[encoded data removed]",
            "text/plain": [
              "<Figure size 432x288 with 2 Axes>"
            ]
          },
          "metadata": {
            "needs_background": "light"
          }
        }
      ],
      "source": [
        "X = X_binary_resampled\n",
        "\n",
        "y = Y_binary_resampled \n",
        "\n",
        "X_train, X_test, y_train, y_test = train_test_split(X, y, test_size=0.3) # 70% training and 30% test\n",
        "\n",
        "model = RandomForestClassifier(n_estimators=100)\n",
        "\n",
        "model.fit(X_train,y_train)\n",
        "from sklearn.metrics import confusion_matrix\n",
        "\n",
        "# Model Accuracy, how often is the classifier correct?\n",
        "y_pred = model.predict(X_test)\n",
        "print(\"Accuracy:\",model.score(X_test, y_test))\n",
        "cm = confusion_matrix(y_test, y_pred)\n",
        "print(cm)\n",
        "import seaborn as sns\n",
        "sns.heatmap(cm, annot=True)"
      ]
    },
    {
      "cell_type": "code",
      "source": [
        "from sklearn.model_selection import cross_val_score\n",
        "accuracies = cross_val_score(estimator = model, X = X_train, y = y_train, cv = 10)\n",
        "accuracies.mean()"
      ],
      "metadata": {
        "colab": {
          "base_uri": "https://localhost:8080/"
        },
        "id": "bJIgI6EqQhwu",
        "outputId": "a227685e-8532-469d-ecdb-16dbd676151e"
      },
      "execution_count": 23,
      "outputs": [
        {
          "output_type": "execute_result",
          "data": {
            "text/plain": [
              "0.9638571428571427"
            ]
          },
          "metadata": {},
          "execution_count": 23
        }
      ]
    },
    {
      "cell_type": "code",
      "source": [
        "from sklearn.metrics import plot_roc_curve\n",
        "plot_roc_curve(model, X_test, y_test)"
      ],
      "metadata": {
        "colab": {
          "base_uri": "https://localhost:8080/",
          "height": 351
        },
        "id": "P1JsPwpARjlb",
        "outputId": "98d7c700-c74b-499d-98ab-5036fcc9105b"
      },
      "execution_count": 24,
      "outputs": [
        {
          "output_type": "stream",
          "name": "stderr",
          "text": [
            "/usr/local/lib/python3.7/dist-packages/sklearn/utils/deprecation.py:87: FutureWarning: Function plot_roc_curve is deprecated; Function `plot_roc_curve` is deprecated in 1.0 and will be removed in 1.2. Use one of the class methods: RocCurveDisplay.from_predictions or RocCurveDisplay.from_estimator.\n",
            "  warnings.warn(msg, category=FutureWarning)\n"
          ]
        },
        {
          "output_type": "execute_result",
          "data": {
            "text/plain": [
              "<sklearn.metrics._plot.roc_curve.RocCurveDisplay at 0x7fdb11233910>"
            ]
          },
          "metadata": {},
          "execution_count": 24
        },
        {
          "output_type": "display_data",
          "data": {
            "image/png": "[encoded data removed]",
            "text/plain": [
              "<Figure size 432x288 with 1 Axes>"
            ]
          },
          "metadata": {
            "needs_background": "light"
          }
        }
      ]
    },
    {
      "cell_type": "markdown",
      "source": [
        "Is there any difference between modeling with all features or only a few of them? Testing with the top_features:"
      ],
      "metadata": {
        "id": "0u2iv1O88O-G"
      }
    },
    {
      "cell_type": "code",
      "source": [
        "X = X_binary_resampled[top_features]\n",
        "\n",
        "y = Y_binary_resampled \n",
        "\n",
        "X_train, X_test, y_train, y_test = train_test_split(X, y, test_size=0.3) # 70% training and 30% test\n",
        "\n",
        "model = RandomForestClassifier(n_estimators=100)\n",
        "\n",
        "model.fit(X_train,y_train)\n",
        "from sklearn.metrics import confusion_matrix\n",
        "\n",
        "# Model Accuracy, how often is the classifier correct?\n",
        "y_pred = model.predict(X_test)\n",
        "print(\"Accuracy:\",model.score(X_test, y_test))\n",
        "cm = confusion_matrix(y_test, y_pred)\n",
        "print(cm)"
      ],
      "metadata": {
        "colab": {
          "base_uri": "https://localhost:8080/"
        },
        "id": "wiBP2OHn8H2m",
        "outputId": "a6697906-6c38-4d37-d9be-87e5cae30a92"
      },
      "execution_count": 25,
      "outputs": [
        {
          "output_type": "stream",
          "name": "stdout",
          "text": [
            "Accuracy: 0.9643333333333334\n",
            "[[1497   25]\n",
            " [  82 1396]]\n"
          ]
        }
      ]
    },
    {
      "cell_type": "markdown",
      "metadata": {
        "id": "RfuVP3jHS4Lz"
      },
      "source": [
        "### 3.1.2 Ternary classification"
      ]
    },
    {
      "cell_type": "code",
      "execution_count": 26,
      "metadata": {
        "colab": {
          "base_uri": "https://localhost:8080/",
          "height": 507
        },
        "id": "zQprdqlwS61m",
        "outputId": "e7d09a76-87fa-4768-e4a2-dc47bcefb8ff"
      },
      "outputs": [
        {
          "output_type": "stream",
          "name": "stdout",
          "text": [
            "Ternary Classification\n"
          ]
        },
        {
          "output_type": "display_data",
          "data": {
            "image/png": "[encoded data removed]",
            "text/plain": [
              "<Figure size 432x288 with 1 Axes>"
            ]
          },
          "metadata": {
            "needs_background": "light"
          }
        },
        {
          "output_type": "stream",
          "name": "stdout",
          "text": [
            "#1 Feature: rtt_min, coefficient: 0.12693118103467774\n",
            "#2 Feature: data_bytes, coefficient: 0.10573944171607294\n",
            "#3 Feature: rtt_avg, coefficient: 0.0973733472667016\n",
            "#4 Feature: stdev_rtt, coefficient: 0.08806401113713246\n",
            "#5 Feature: rtt_max, coefficient: 0.08135545918136795\n",
            "#6 Feature: max_seg_size, coefficient: 0.07919500478286035\n",
            "#7 Feature: packets, coefficient: 0.07723828551700583\n",
            "#8 Feature: data_pkts, coefficient: 0.06487165720730957\n",
            "#9 Feature: win_max, coefficient: 0.05607993854695961\n",
            "#10 Feature: ttl_max, coefficient: 0.05408142474856548\n",
            "#11 Feature: rtt_count, coefficient: 0.04546321923427986\n",
            "#12 Feature: rexmit_bytes, coefficient: 0.042460818437169826\n"
          ]
        }
      ],
      "source": [
        "# Keep the ternary classification label\n",
        "\n",
        "X = X_normal\n",
        "\n",
        "y = Y_normal.iloc[:, 1]\n",
        "\n",
        "# fit the model\n",
        "model.fit(X, y)\n",
        "\n",
        "# get importance\n",
        "rf_importance_ternary = model.feature_importances_\n",
        "\n",
        "print(\"Ternary Classification\")\n",
        "drawNetworkFeatureImportance(rf_importance_ternary, \"Importance of Network Features in Ternary RF Model\")\n",
        "top_features = printTopFeatures(rf_importance_ternary, 12)"
      ]
    },
    {
      "cell_type": "markdown",
      "metadata": {
        "id": "J54V_tRKPdfH"
      },
      "source": [
        "#### Evaluate model performance\n",
        "As before we will train and test the model"
      ]
    },
    {
      "cell_type": "code",
      "execution_count": 27,
      "metadata": {
        "colab": {
          "base_uri": "https://localhost:8080/"
        },
        "id": "rrP5-dlWPwBe",
        "outputId": "a825ffbe-f57e-43bd-9423-9b95c8704217"
      },
      "outputs": [
        {
          "output_type": "stream",
          "name": "stdout",
          "text": [
            "Accuracy: 0.7465986394557823\n"
          ]
        }
      ],
      "source": [
        "X = X_normal[top_features]\n",
        "\n",
        "y = Y_normal.iloc[:, 1]\n",
        "\n",
        "X_train, X_test, y_train, y_test = train_test_split(X, y, test_size=0.3) # 70% training and 30% test\n",
        "\n",
        "model = RandomForestClassifier(n_estimators=100)\n",
        "\n",
        "#Train the model using the training sets y_pred=clf.predict(X_test)\n",
        "model.fit(X_train,y_train)\n",
        "\n",
        "# Model Accuracy, how often is the classifier correct?\n",
        "print(\"Accuracy:\",model.score(X_test, y_test))"
      ]
    },
    {
      "cell_type": "markdown",
      "metadata": {
        "id": "11hJUyEpQmOI"
      },
      "source": [
        "Let's execute it with upsampling. To have a balanced dataset."
      ]
    },
    {
      "cell_type": "code",
      "execution_count": 28,
      "metadata": {
        "colab": {
          "base_uri": "https://localhost:8080/",
          "height": 352
        },
        "id": "VCyYH5F7QqDq",
        "outputId": "cb3378d3-ca95-4e61-a2a4-8ab2aa9bc5a0"
      },
      "outputs": [
        {
          "output_type": "stream",
          "name": "stdout",
          "text": [
            "Accuracy: 0.914\n",
            "[[1512    0    0]\n",
            " [  18 1290  161]\n",
            " [   5  203 1311]]\n"
          ]
        },
        {
          "output_type": "execute_result",
          "data": {
            "text/plain": [
              "<matplotlib.axes._subplots.AxesSubplot at 0x7fdb31bb0390>"
            ]
          },
          "metadata": {},
          "execution_count": 28
        },
        {
          "output_type": "display_data",
          "data": {
            "image/png": "[encoded data removed]",
            "text/plain": [
              "<Figure size 432x288 with 2 Axes>"
            ]
          },
          "metadata": {
            "needs_background": "light"
          }
        }
      ],
      "source": [
        "X = X_ternary_resampled\n",
        "\n",
        "y = Y_ternary_resampled\n",
        "\n",
        "X_train, X_test, y_train, y_test = train_test_split(X, y, test_size=0.3) # 70% training and 30% test\n",
        "\n",
        "model = RandomForestClassifier(n_estimators=100)\n",
        "\n",
        "model.fit(X_train,y_train)\n",
        "y_pred = model.predict(X_test)\n",
        "# Model Accuracy, how often is the classifier correct?\n",
        "print(\"Accuracy:\",model.score(X_test, y_test))\n",
        "cm = confusion_matrix(y_test, y_pred)\n",
        "print(cm)\n",
        "import seaborn as sns\n",
        "sns.heatmap(cm, annot=True)"
      ]
    },
    {
      "cell_type": "markdown",
      "metadata": {
        "id": "EQuoJvf5ZKjk"
      },
      "source": [
        "## 3.2 Support Vector Machine\n"
      ]
    },
    {
      "cell_type": "markdown",
      "source": [
        "### 3.2.1 Binary Classification"
      ],
      "metadata": {
        "id": "Ojii-tT4O85K"
      }
    },
    {
      "cell_type": "code",
      "execution_count": 29,
      "metadata": {
        "colab": {
          "base_uri": "https://localhost:8080/",
          "height": 576
        },
        "id": "NGo34ZMeZVfy",
        "outputId": "b8985b08-5f36-419c-88c7-57ab27b487e9"
      },
      "outputs": [
        {
          "output_type": "stream",
          "name": "stdout",
          "text": [
            "Binary Classification\n"
          ]
        },
        {
          "output_type": "display_data",
          "data": {
            "image/png": "[encoded data removed]",
            "text/plain": [
              "<Figure size 432x288 with 1 Axes>"
            ]
          },
          "metadata": {
            "needs_background": "light"
          }
        },
        {
          "output_type": "stream",
          "name": "stdout",
          "text": [
            "#1 Feature: max_seg_size, coefficient: -23.671830153112833\n",
            "#2 Feature: packets, coefficient: 5.697757853214617\n",
            "#3 Feature: rtt_avg, coefficient: -1.909297886695146\n",
            "#4 Feature: rtt_min, coefficient: -1.6625409892982956\n",
            "#5 Feature: stdev_rtt, coefficient: 1.3923247839531112\n",
            "#6 Feature: rtt_max, coefficient: -1.1434873477685852\n",
            "#7 Feature: flow_control, coefficient: -0.92156097041888\n",
            "#8 Feature: rexmit_bytes, coefficient: 0.6801926024236087\n",
            "#9 Feature: data_pkts, coefficient: 0.5855570147315149\n",
            "#10 Feature: win_min, coefficient: 0.500020266577474\n",
            "#11 Feature: rtx_RTO, coefficient: 0.43014219753677896\n",
            "#12 Feature: rtt_count, coefficient: 0.40495275342014103\n",
            "#13 Feature: data_bytes, coefficient: -0.3980033388033146\n",
            "#14 Feature: min_seg_size, coefficient: 0.2152870642510709\n",
            "#15 Feature: win_max, coefficient: 0.14272959854238088\n",
            "#16 Feature: ttl_max, coefficient: 0.1364446708137475\n"
          ]
        }
      ],
      "source": [
        "from sklearn.preprocessing import MinMaxScaler\n",
        "# random forest for feature importance on a regression problem\n",
        "from sklearn import svm\n",
        "\n",
        "model = svm.SVC(kernel='linear')\n",
        "\n",
        "#Important for the fitting to finish. Or else it goes forever\n",
        "scaler = MinMaxScaler()\n",
        "\n",
        "scaled_data = scaler.fit_transform(X_normal)\n",
        "\n",
        "X = pd.DataFrame(scaled_data, columns=X_normal.keys())\n",
        "y = Y_normal.iloc[:, 0]\n",
        "\n",
        "model.fit(X, y)\n",
        "\n",
        "svm_importance_binary = (model.coef_[0])\n",
        "\n",
        "print(\"Binary Classification\")\n",
        "drawNetworkFeatureImportance(svm_importance_binary, \"Importance of Network Features in Binary SVM Model\")\n",
        "topFeatures = printTopFeatures(svm_importance_binary, 16)"
      ]
    },
    {
      "cell_type": "code",
      "execution_count": 30,
      "metadata": {
        "colab": {
          "base_uri": "https://localhost:8080/"
        },
        "id": "FxXShNECyDT-",
        "outputId": "eebfb270-650d-4d3c-9892-692b74ad66d4"
      },
      "outputs": [
        {
          "output_type": "stream",
          "name": "stdout",
          "text": [
            "Accuracy: 0.9226190476190477\n"
          ]
        }
      ],
      "source": [
        "#Important for the fitting to finish. Or else it goes forever\n",
        "scaler = MinMaxScaler()\n",
        "\n",
        "X = X_normal[topFeatures]\n",
        "\n",
        "scaled_data = scaler.fit_transform(X)\n",
        "\n",
        "X = pd.DataFrame(scaled_data, columns=X.keys())\n",
        "y = Y_normal.iloc[:, 0]\n",
        "\n",
        "X_train, X_test, y_train, y_test = train_test_split(X, y, test_size=0.3) # 70% training and 30% test\n",
        "\n",
        "model.fit(X_train, y_train)\n",
        "\n",
        "# Model Accuracy, how often is the classifier correct?\n",
        "print(\"Accuracy:\",model.score(X_test, y_test))"
      ]
    },
    {
      "cell_type": "markdown",
      "metadata": {
        "id": "tY4IfkZazNph"
      },
      "source": [
        "Let's execute it with upsampling. To have a balanced dataset.:"
      ]
    },
    {
      "cell_type": "code",
      "execution_count": 31,
      "metadata": {
        "colab": {
          "base_uri": "https://localhost:8080/"
        },
        "id": "HuLmsvoNzOEt",
        "outputId": "2967a8c1-4fdd-41f7-f2f3-f2ec796d94ab"
      },
      "outputs": [
        {
          "output_type": "stream",
          "name": "stdout",
          "text": [
            "Accuracy: 0.924\n"
          ]
        }
      ],
      "source": [
        "scaler = MinMaxScaler()\n",
        "\n",
        "X = X_binary_resampled[topFeatures]\n",
        "\n",
        "scaled_data = scaler.fit_transform(X)\n",
        "\n",
        "X = pd.DataFrame(scaled_data, columns=X.keys())\n",
        "y = Y_binary_resampled\n",
        "\n",
        "X_train, X_test, y_train, y_test = train_test_split(X, y, test_size=0.3) # 70% training and 30% test\n",
        "\n",
        "model.fit(X_train, y_train)\n",
        "\n",
        "# Model Accuracy, how often is the classifier correct?\n",
        "print(\"Accuracy:\",model.score(X_test, y_test))"
      ]
    },
    {
      "cell_type": "markdown",
      "metadata": {
        "id": "vXBhSzSKfAKc"
      },
      "source": [
        "### 3.2.2 Ternary Classification"
      ]
    },
    {
      "cell_type": "code",
      "execution_count": 32,
      "metadata": {
        "colab": {
          "base_uri": "https://localhost:8080/",
          "height": 507
        },
        "id": "mEG7dr_zfJxK",
        "outputId": "2cf2def0-3687-484f-e458-071256ef0d0b"
      },
      "outputs": [
        {
          "output_type": "stream",
          "name": "stdout",
          "text": [
            "Ternary Classification\n"
          ]
        },
        {
          "output_type": "display_data",
          "data": {
            "image/png": "[encoded data removed]",
            "text/plain": [
              "<Figure size 432x288 with 1 Axes>"
            ]
          },
          "metadata": {
            "needs_background": "light"
          }
        },
        {
          "output_type": "stream",
          "name": "stdout",
          "text": [
            "#1 Feature: flow_control, coefficient: -0.014135021587104309\n",
            "#2 Feature: rexmit_pkts, coefficient: -0.010934010271636208\n",
            "#3 Feature: rtt_min, coefficient: 0.010770753334481409\n",
            "#4 Feature: win_min, coefficient: 0.008832973969039593\n",
            "#5 Feature: data_pkts, coefficient: -0.006120419713643521\n",
            "#6 Feature: rtt_count, coefficient: 0.005138462410467781\n",
            "#7 Feature: rtt_avg, coefficient: -0.0038493249073940916\n",
            "#8 Feature: rexmit_bytes, coefficient: 0.002641800261439231\n",
            "#9 Feature: min_seg_size, coefficient: -0.0024743535993859977\n",
            "#10 Feature: max_seg_size, coefficient: -0.002139604190567468\n",
            "#11 Feature: data_bytes, coefficient: 0.0007998745951667274\n",
            "#12 Feature: stdev_rtt, coefficient: 0.0002949577050834762\n"
          ]
        }
      ],
      "source": [
        "model = svm.SVC(kernel='linear')\n",
        "\n",
        "#Important for the fitting to finish. Or else it goes forever\n",
        "scaler = MinMaxScaler()\n",
        "\n",
        "scaled_data = scaler.fit_transform(X_normal)\n",
        "\n",
        "X = pd.DataFrame(scaled_data, columns=X_normal.keys())\n",
        "y = Y_normal.iloc[:, 1]\n",
        "\n",
        "model.fit(X, y)\n",
        "\n",
        "svm_importance_binary = (model.coef_[0])\n",
        "\n",
        "print(\"Ternary Classification\")\n",
        "drawNetworkFeatureImportance(svm_importance_binary, \"Importance of Network Features in Ternary SVM Model\")\n",
        "topFeatures = printTopFeatures(svm_importance_binary, 12)"
      ]
    },
    {
      "cell_type": "code",
      "execution_count": 33,
      "metadata": {
        "colab": {
          "base_uri": "https://localhost:8080/"
        },
        "id": "PUvduNPxfTX9",
        "outputId": "b0439c80-07c0-4592-d3c6-de4900bbf845"
      },
      "outputs": [
        {
          "output_type": "stream",
          "name": "stdout",
          "text": [
            "Accuracy: 0.7335600907029478\n"
          ]
        }
      ],
      "source": [
        "#Important for the fitting to finish. Or else it goes forever\n",
        "scaler = MinMaxScaler()\n",
        "\n",
        "X = X_normal[topFeatures]\n",
        "\n",
        "scaled_data = scaler.fit_transform(X)\n",
        "\n",
        "X = pd.DataFrame(scaled_data, columns=X.keys())\n",
        "y = Y_normal.iloc[:, 1]\n",
        "\n",
        "X_train, X_test, y_train, y_test = train_test_split(X, y, test_size=0.3) # 70% training and 30% test\n",
        "\n",
        "model.fit(X_train, y_train)\n",
        "\n",
        "# Model Accuracy, how often is the classifier correct?\n",
        "print(\"Accuracy:\",model.score(X_test, y_test))"
      ]
    },
    {
      "cell_type": "markdown",
      "metadata": {
        "id": "DChdY6Sm0CMm"
      },
      "source": [
        "Let's execute it with upsampling. To have a balanced dataset.:"
      ]
    },
    {
      "cell_type": "code",
      "execution_count": 34,
      "metadata": {
        "colab": {
          "base_uri": "https://localhost:8080/"
        },
        "id": "ZZ2TPQeP0Ed7",
        "outputId": "59570bf2-77d1-41d0-c4ff-2fdaf9ec5ee3"
      },
      "outputs": [
        {
          "output_type": "stream",
          "name": "stdout",
          "text": [
            "Accuracy: 0.5711111111111111\n"
          ]
        }
      ],
      "source": [
        "#Important for the fitting to finish. Or else it goes forever\n",
        "scaler = MinMaxScaler()\n",
        "\n",
        "X = X_ternary_resampled[topFeatures]\n",
        "\n",
        "scaled_data = scaler.fit_transform(X)\n",
        "\n",
        "X = pd.DataFrame(scaled_data, columns=X.keys())\n",
        "y = Y_ternary_resampled\n",
        "\n",
        "X_train, X_test, y_train, y_test = train_test_split(X, y, test_size=0.3) # 70% training and 30% test\n",
        "\n",
        "model.fit(X_train, y_train)\n",
        "\n",
        "# Model Accuracy, how often is the classifier correct?\n",
        "print(\"Accuracy:\",model.score(X_test, y_test))"
      ]
    },
    {
      "cell_type": "markdown",
      "source": [
        "## 3.3 XGBoost with up-sampled data"
      ],
      "metadata": {
        "id": "u0OAXVmfELd9"
      }
    },
    {
      "cell_type": "markdown",
      "source": [
        "### 3.3.1 Binary Classification"
      ],
      "metadata": {
        "id": "5jRbo7yUR8as"
      }
    },
    {
      "cell_type": "code",
      "source": [
        "from xgboost import XGBClassifier\n",
        "X = X_binary_resampled\n",
        "y = Y_binary_resampled \n",
        "X_train, X_test, y_train, y_test = train_test_split(X, y, test_size=0.3, random_state=123)\n",
        "xgb_2 = XGBClassifier()\n",
        "xgb_2.fit(X_train, y_train)\n",
        "y_pred = xgb_2.predict(X_test)\n",
        "cm = confusion_matrix(y_test, y_pred)\n",
        "print(cm)\n",
        "print(\"Accuracy:\",xgb_2.score(X_test, y_test))\n"
      ],
      "metadata": {
        "colab": {
          "base_uri": "https://localhost:8080/"
        },
        "id": "X9nliR1RELDS",
        "outputId": "7f3de934-4762-457a-a018-3da31fb2ff6f"
      },
      "execution_count": 35,
      "outputs": [
        {
          "output_type": "stream",
          "name": "stdout",
          "text": [
            "[[1446   39]\n",
            " [ 137 1378]]\n",
            "Accuracy: 0.9413333333333334\n"
          ]
        }
      ]
    },
    {
      "cell_type": "code",
      "source": [
        "import seaborn as sns\n",
        "sns.heatmap(cm, annot=True)"
      ],
      "metadata": {
        "colab": {
          "base_uri": "https://localhost:8080/",
          "height": 282
        },
        "id": "ocPPhUHqEWWg",
        "outputId": "c0334837-b104-4e4a-a06b-1fd31ce57afd"
      },
      "execution_count": 36,
      "outputs": [
        {
          "output_type": "execute_result",
          "data": {
            "text/plain": [
              "<matplotlib.axes._subplots.AxesSubplot at 0x7fdb1110f2d0>"
            ]
          },
          "metadata": {},
          "execution_count": 36
        },
        {
          "output_type": "display_data",
          "data": {
            "image/png": "[encoded data removed]",
            "text/plain": [
              "<Figure size 432x288 with 2 Axes>"
            ]
          },
          "metadata": {
            "needs_background": "light"
          }
        }
      ]
    },
    {
      "cell_type": "code",
      "source": [
        "import numpy as np\n",
        "labels = ['True Neg','False Pos','False Neg','True Pos']\n",
        "labels = np.asarray(labels).reshape(2,2)\n",
        "sns.heatmap(cm, annot=labels, fmt='', cmap='Blues')"
      ],
      "metadata": {
        "colab": {
          "base_uri": "https://localhost:8080/",
          "height": 282
        },
        "id": "RI97j0R1EXVz",
        "outputId": "aac80556-1c05-48fb-b52e-e590f6dd47a4"
      },
      "execution_count": 37,
      "outputs": [
        {
          "output_type": "execute_result",
          "data": {
            "text/plain": [
              "<matplotlib.axes._subplots.AxesSubplot at 0x7fdb08102f10>"
            ]
          },
          "metadata": {},
          "execution_count": 37
        },
        {
          "output_type": "display_data",
          "data": {
            "image/png": "[encoded data removed]",
            "text/plain": [
              "<Figure size 432x288 with 2 Axes>"
            ]
          },
          "metadata": {
            "needs_background": "light"
          }
        }
      ]
    },
    {
      "cell_type": "code",
      "source": [
        "from sklearn.metrics import plot_roc_curve\n",
        "plot_roc_curve(xgb_2, X_test, y_test)"
      ],
      "metadata": {
        "colab": {
          "base_uri": "https://localhost:8080/",
          "height": 351
        },
        "id": "wU0ypTePEaJ7",
        "outputId": "387c965b-2969-4f90-f7cb-8f85942979df"
      },
      "execution_count": 38,
      "outputs": [
        {
          "output_type": "stream",
          "name": "stderr",
          "text": [
            "/usr/local/lib/python3.7/dist-packages/sklearn/utils/deprecation.py:87: FutureWarning: Function plot_roc_curve is deprecated; Function `plot_roc_curve` is deprecated in 1.0 and will be removed in 1.2. Use one of the class methods: RocCurveDisplay.from_predictions or RocCurveDisplay.from_estimator.\n",
            "  warnings.warn(msg, category=FutureWarning)\n"
          ]
        },
        {
          "output_type": "execute_result",
          "data": {
            "text/plain": [
              "<sklearn.metrics._plot.roc_curve.RocCurveDisplay at 0x7fdb0803fa10>"
            ]
          },
          "metadata": {},
          "execution_count": 38
        },
        {
          "output_type": "display_data",
          "data": {
            "image/png": "[encoded data removed]",
            "text/plain": [
              "<Figure size 432x288 with 1 Axes>"
            ]
          },
          "metadata": {
            "needs_background": "light"
          }
        }
      ]
    },
    {
      "cell_type": "markdown",
      "source": [
        "### 3.3.2 Ternary Classification\n",
        "\n"
      ],
      "metadata": {
        "id": "7zKQmEhySFCj"
      }
    },
    {
      "cell_type": "code",
      "source": [
        "from xgboost import XGBClassifier\n",
        "X = X_ternary_resampled\n",
        "y = Y_ternary_resampled \n",
        "\n",
        "X_train, X_test, y_train, y_test = train_test_split(X, y, test_size=0.3, random_state=123)\n",
        "\n",
        "xgb_3 = XGBClassifier()\n",
        "xgb_3.fit(X_train, y_train)\n",
        "y_pred = xgb_3.predict(X_test)\n",
        "\n",
        "cm = confusion_matrix(y_test, y_pred)\n",
        "print(cm)\n",
        "print(\"Accuracy:\",xgb_3.score(X_test, y_test))"
      ],
      "metadata": {
        "colab": {
          "base_uri": "https://localhost:8080/"
        },
        "id": "0IWdGwznSLW7",
        "outputId": "db6489f8-aa3d-4bbc-f017-9f51a9dd5508"
      },
      "execution_count": 39,
      "outputs": [
        {
          "output_type": "stream",
          "name": "stdout",
          "text": [
            "[[1194  280   15]\n",
            " [ 163 1083  274]\n",
            " [  63  329 1099]]\n",
            "Accuracy: 0.7502222222222222\n"
          ]
        }
      ]
    },
    {
      "cell_type": "markdown",
      "source": [
        "## 3.4 Decision Tree"
      ],
      "metadata": {
        "id": "cZDrp06hjH88"
      }
    },
    {
      "cell_type": "markdown",
      "source": [
        "### 3.4.1 Binary Classification"
      ],
      "metadata": {
        "id": "XwUo-2p0jPFk"
      }
    },
    {
      "cell_type": "code",
      "source": [
        "from sklearn import tree\n",
        "\n",
        "X = X_binary_resampled\n",
        "y = Y_binary_resampled \n",
        "\n",
        "X_train, X_test, y_train, y_test = train_test_split(X, y, test_size=0.3, random_state=123)\n",
        "\n",
        "clf = tree.DecisionTreeClassifier()\n",
        "clf.fit(X_train, y_train)\n",
        "\n",
        "print(\"Accuracy:\",clf.score(X_test, y_test))"
      ],
      "metadata": {
        "colab": {
          "base_uri": "https://localhost:8080/"
        },
        "id": "glCsgcC6jXV1",
        "outputId": "3ccc551f-b18a-4b2c-caf7-e9c84f2f68d0"
      },
      "execution_count": 40,
      "outputs": [
        {
          "output_type": "stream",
          "name": "stdout",
          "text": [
            "Accuracy: 0.9423333333333334\n"
          ]
        }
      ]
    },
    {
      "cell_type": "markdown",
      "source": [
        "### 3.4.2 Ternary Classification"
      ],
      "metadata": {
        "id": "LC2Qy_y_jQNC"
      }
    },
    {
      "cell_type": "code",
      "source": [
        "X = X_ternary_resampled\n",
        "y = Y_ternary_resampled \n",
        "\n",
        "X_train, X_test, y_train, y_test = train_test_split(X, y, test_size=0.3, random_state=123)\n",
        "\n",
        "clf = tree.DecisionTreeClassifier()\n",
        "clf.fit(X_train, y_train)\n",
        "\n",
        "print(\"Accuracy:\",clf.score(X_test, y_test))"
      ],
      "metadata": {
        "colab": {
          "base_uri": "https://localhost:8080/"
        },
        "id": "9NEgE9mRjdNH",
        "outputId": "7bed9715-a582-4fc6-96a1-3614297abdfd"
      },
      "execution_count": 41,
      "outputs": [
        {
          "output_type": "stream",
          "name": "stdout",
          "text": [
            "Accuracy: 0.884\n"
          ]
        }
      ]
    },
    {
      "cell_type": "markdown",
      "source": [
        "# 4 Generalizable (Random Forest ML model only)\n",
        "\n",
        "In this section we will test whether our Random Forest model is generalizable using the upsampled dataset"
      ],
      "metadata": {
        "id": "QW-j34sAW0N5"
      }
    },
    {
      "cell_type": "code",
      "source": [
        "dataset_filename = list(generalized.keys())[0]\n",
        "\n",
        "# Read in data and display first rows\n",
        "df_generalized = pd.read_csv(dataset_filename)"
      ],
      "metadata": {
        "id": "RlrCUa46XYPR"
      },
      "execution_count": 42,
      "outputs": []
    },
    {
      "cell_type": "code",
      "source": [
        "threshold=1\n",
        "high_quality_threshold=2\n",
        "low_quality_threshold=3\n",
        "\n",
        "df_generalized.loc[(df_generalized['stallCount']<threshold), 'qoe_class_1'] = \"0\" # Stands for good quality\n",
        "df_generalized.loc[(df_generalized['stallCount']>=threshold), 'qoe_class_1'] = \"1\" # Stands for bad quality\n",
        "\n",
        "df_generalized.loc[(df_generalized['qualityChanges']<high_quality_threshold), 'qoe_class_2'] = \"0\" # Stands for good quality\n",
        "df_generalized.loc[(df_generalized['qualityChanges']>=high_quality_threshold) & (df_generalized['qualityChanges']<=low_quality_threshold), 'qoe_class_2'] = \"1\" # Stands for medium quality\n",
        "df_generalized.loc[(df_generalized['qualityChanges']>low_quality_threshold), 'qoe_class_2'] = \"2\" # Stands for bad quality\n",
        "\n",
        "\n",
        "X_generalized_test=df_generalized.iloc[:, 3:-7]\n",
        "\n",
        "scaled_data = scaler.fit_transform(X_generalized_test)\n",
        "X_generalized_test_scaled=pd.DataFrame(scaled_data, columns=X_generalized_test.keys())\n",
        "\n",
        "y_generalized_test=df_generalized.iloc[:, -2:]"
      ],
      "metadata": {
        "id": "lAAhb0_IXe-0"
      },
      "execution_count": 43,
      "outputs": []
    },
    {
      "cell_type": "markdown",
      "source": [
        "## 4.1 Binary Classification\n",
        "\n"
      ],
      "metadata": {
        "id": "2I_er9cCW-oy"
      }
    },
    {
      "cell_type": "code",
      "source": [
        "X_train = X_binary_resampled\n",
        "y_train = Y_binary_resampled \n",
        "\n",
        "X_test = X_generalized_test\n",
        "y_test = y_generalized_test.iloc[:, 0]\n",
        "\n",
        "model = RandomForestClassifier(n_estimators=100)\n",
        "\n",
        "model.fit(X_train,y_train)\n",
        "print(\"Accuracy:\",model.score(X_test, y_test))\n",
        "\n",
        "print(\"What if I rescale\")\n",
        "\n",
        "scaled_data = scaler.fit_transform(X_train)\n",
        "X_train_scaled=pd.DataFrame(scaled_data, columns=X_generalized_test.keys())\n",
        "\n",
        "model.fit(X_train_scaled,y_train)\n",
        "print(\"Accuracy:\",model.score(X_generalized_test_scaled, y_test))\n"
      ],
      "metadata": {
        "colab": {
          "base_uri": "https://localhost:8080/"
        },
        "id": "Xd9E_aSlXEje",
        "outputId": "44a2e1a3-cfcd-44d1-e360-f458a9890c69"
      },
      "execution_count": 44,
      "outputs": [
        {
          "output_type": "stream",
          "name": "stdout",
          "text": [
            "Accuracy: 0.8619883040935673\n",
            "What if I rescale\n",
            "Accuracy: 0.8760233918128655\n"
          ]
        }
      ]
    },
    {
      "cell_type": "markdown",
      "source": [
        "## 4.2 Ternary Classification"
      ],
      "metadata": {
        "id": "dnY4aYJnXCw7"
      }
    },
    {
      "cell_type": "code",
      "source": [
        "X_train = X_ternary_resampled\n",
        "y_train = Y_ternary_resampled \n",
        "\n",
        "X_test = X_generalized_test\n",
        "y_test = y_generalized_test.iloc[:, 1]\n",
        "\n",
        "model = RandomForestClassifier(n_estimators=100)\n",
        "\n",
        "model.fit(X_train,y_train)\n",
        "print(\"Accuracy:\",model.score(X_test, y_test))\n",
        "\n",
        "print(\"What if I rescale\")\n",
        "\n",
        "scaler = MinMaxScaler()\n",
        "scaled_data = scaler.fit_transform(X_train)\n",
        "X_train_scaled=pd.DataFrame(scaled_data, columns=X_train.keys())\n",
        "\n",
        "model.fit(X_train_scaled,y_train)\n",
        "print(\"Accuracy:\",model.score(X_generalized_test_scaled, y_test))"
      ],
      "metadata": {
        "colab": {
          "base_uri": "https://localhost:8080/"
        },
        "id": "aU1h5ahEaMEO",
        "outputId": "21dbed87-6305-477e-9d5a-d5ef1d4b7b06"
      },
      "execution_count": 45,
      "outputs": [
        {
          "output_type": "stream",
          "name": "stdout",
          "text": [
            "Accuracy: 0.38421052631578945\n",
            "What if I rescale\n",
            "Accuracy: 0.30701754385964913\n"
          ]
        }
      ]
    },
    {
      "cell_type": "markdown",
      "source": [
        "# 5 Optimizations (Random Forest ML model only)\n",
        "\n",
        "In this point we will perform optimizations for the Random Forest machine learning model that is proven to be the best model. The optimizations are incremental in the sence that the each optimization is applied to the already existing optimizations. We measure the performance with the existing dataset as well as a generalized dataset"
      ],
      "metadata": {
        "id": "TTT9tCt-PvjE"
      }
    },
    {
      "cell_type": "markdown",
      "source": [
        "## 5.1 Univariate Feature Selection"
      ],
      "metadata": {
        "id": "zIBbYcrEfyiV"
      }
    },
    {
      "cell_type": "markdown",
      "source": [
        "### 5.1.1 Binary Classification"
      ],
      "metadata": {
        "id": "mcd43rg8U2cu"
      }
    },
    {
      "cell_type": "code",
      "source": [
        "# Univariate Feature Selection with SelectKBest\n",
        "\n",
        "from sklearn.feature_selection import SelectKBest, mutual_info_regression\n",
        "\n",
        "# select top 5 features\n",
        "selector = SelectKBest(mutual_info_regression, k = 5)\n",
        "selector.fit(X_binary_resampled, Y_binary_resampled)\n",
        "binary_relevant_features = X_binary_resampled.columns[selector.get_support()]\n",
        "binary_relevant_features"
      ],
      "metadata": {
        "colab": {
          "base_uri": "https://localhost:8080/"
        },
        "id": "2C2jpN15Efeg",
        "outputId": "4bc69ee7-9ae9-4bf5-c6d0-881941907b9f"
      },
      "execution_count": 46,
      "outputs": [
        {
          "output_type": "execute_result",
          "data": {
            "text/plain": [
              "Index(['rtt_avg', 'rtt_min', 'ttl_max', 'max_seg_size', 'min_seg_size'], dtype='object')"
            ]
          },
          "metadata": {},
          "execution_count": 46
        }
      ]
    },
    {
      "cell_type": "code",
      "source": [
        "X = X_binary_resampled[binary_relevant_features]\n",
        "\n",
        "y = Y_binary_resampled \n",
        "\n",
        "X_train, X_test, y_train, y_test = train_test_split(X, y, test_size=0.3) # 70% training and 30% test\n",
        "\n",
        "binary_model_5_2 = RandomForestClassifier(n_estimators=100)\n",
        "\n",
        "binary_model_5_2.fit(X_train,y_train)\n",
        "\n",
        "# Model Accuracy, how often is the classifier correct?\n",
        "print(\"Accuracy:\",binary_model_5_2.score(X_test, y_test))"
      ],
      "metadata": {
        "colab": {
          "base_uri": "https://localhost:8080/"
        },
        "id": "fahoKQ8fVxZx",
        "outputId": "5c3fef9e-0cee-48c6-ef77-448a02119e03"
      },
      "execution_count": 47,
      "outputs": [
        {
          "output_type": "stream",
          "name": "stdout",
          "text": [
            "Accuracy: 0.961\n"
          ]
        }
      ]
    },
    {
      "cell_type": "markdown",
      "source": [
        "### 5.1.2 Ternary Classification"
      ],
      "metadata": {
        "id": "eAgpZF2dVC-W"
      }
    },
    {
      "cell_type": "code",
      "source": [
        "# select top 5 features\n",
        "selector = SelectKBest(mutual_info_regression, k = 5)\n",
        "selector.fit(X_ternary_resampled, Y_ternary_resampled)\n",
        "ternary_relevant_features = X_ternary_resampled.columns[selector.get_support()]\n",
        "ternary_relevant_features"
      ],
      "metadata": {
        "colab": {
          "base_uri": "https://localhost:8080/"
        },
        "id": "Uq4jb2t6VCo_",
        "outputId": "de511684-9800-4796-9627-331fcc263716"
      },
      "execution_count": 48,
      "outputs": [
        {
          "output_type": "execute_result",
          "data": {
            "text/plain": [
              "Index(['data_bytes', 'rtt_avg', 'rtt_min', 'rtt_max', 'stdev_rtt'], dtype='object')"
            ]
          },
          "metadata": {},
          "execution_count": 48
        }
      ]
    },
    {
      "cell_type": "code",
      "source": [
        "X = X_ternary_resampled[ternary_relevant_features]\n",
        "\n",
        "y = Y_ternary_resampled \n",
        "\n",
        "X_train, X_test, y_train, y_test = train_test_split(X, y, test_size=0.3) # 70% training and 30% test\n",
        "\n",
        "ternary_model_5_2 = RandomForestClassifier(n_estimators=100)\n",
        "\n",
        "ternary_model_5_2.fit(X_train,y_train)\n",
        "\n",
        "# Model Accuracy, how often is the classifier correct?\n",
        "print(\"Accuracy:\",ternary_model_5_2.score(X_test, y_test))"
      ],
      "metadata": {
        "colab": {
          "base_uri": "https://localhost:8080/"
        },
        "id": "3N4R-nCbgphS",
        "outputId": "ebb7d7ae-0dad-436d-a884-a195d34fa333"
      },
      "execution_count": 49,
      "outputs": [
        {
          "output_type": "stream",
          "name": "stdout",
          "text": [
            "Accuracy: 0.898\n"
          ]
        }
      ]
    },
    {
      "cell_type": "markdown",
      "source": [
        "## 5.2 Cross Validation"
      ],
      "metadata": {
        "id": "c8bdZ4kmVW23"
      }
    },
    {
      "cell_type": "markdown",
      "source": [
        "### 5.1.1 Binary Classification"
      ],
      "metadata": {
        "id": "SnSlNwLPen9w"
      }
    },
    {
      "cell_type": "code",
      "source": [
        "# k fold cross validation\n",
        "from sklearn.model_selection import cross_val_score\n",
        "\n",
        "binary_model = RandomForestClassifier(n_estimators=100)\n",
        "\n",
        "accuracies = cross_val_score(estimator = binary_model, X = X_binary_resampled[binary_relevant_features], y = Y_binary_resampled, cv = 10)\n",
        "accuracies.mean()"
      ],
      "metadata": {
        "colab": {
          "base_uri": "https://localhost:8080/"
        },
        "id": "r7yXiouHEaoY",
        "outputId": "bed27f02-1410-4ebb-e731-2d3987704649"
      },
      "execution_count": 50,
      "outputs": [
        {
          "output_type": "execute_result",
          "data": {
            "text/plain": [
              "0.9637999999999998"
            ]
          },
          "metadata": {},
          "execution_count": 50
        }
      ]
    },
    {
      "cell_type": "markdown",
      "source": [
        ""
      ],
      "metadata": {
        "id": "1T7JSUGyIc0Q"
      }
    },
    {
      "cell_type": "markdown",
      "source": [
        ""
      ],
      "metadata": {
        "id": "ZeoxxMTpI6Tq"
      }
    },
    {
      "cell_type": "markdown",
      "source": [
        ""
      ],
      "metadata": {
        "id": "h01eo90ZJXmr"
      }
    },
    {
      "cell_type": "markdown",
      "source": [
        ""
      ],
      "metadata": {
        "id": "vHCJy55GJ05t"
      }
    },
    {
      "cell_type": "markdown",
      "source": [
        "### 5.1.2 Ternary Classification"
      ],
      "metadata": {
        "id": "VJhoI5yxfHUc"
      }
    },
    {
      "cell_type": "code",
      "source": [
        "ternary_model = RandomForestClassifier(n_estimators=100)\n",
        "\n",
        "accuracies = cross_val_score(estimator = ternary_model, X = X_ternary_resampled[ternary_relevant_features], y = Y_ternary_resampled, cv = 10)\n",
        "accuracies.mean()"
      ],
      "metadata": {
        "colab": {
          "base_uri": "https://localhost:8080/"
        },
        "id": "bw0ypfFFfNu7",
        "outputId": "6e45d78f-e2cd-4587-dc4a-3877cb962445"
      },
      "execution_count": 51,
      "outputs": [
        {
          "output_type": "execute_result",
          "data": {
            "text/plain": [
              "0.9165999999999999"
            ]
          },
          "metadata": {},
          "execution_count": 51
        }
      ]
    },
    {
      "cell_type": "markdown",
      "source": [
        "# 6 Final Model"
      ],
      "metadata": {
        "id": "Md5x85ECj7GD"
      }
    },
    {
      "cell_type": "code",
      "source": [
        "from sklearn.model_selection import RandomizedSearchCV\n",
        "# Number of trees in random forest\n",
        "n_estimators = [int(x) for x in np.linspace(start = 0, stop = 2000, num = 10)]\n",
        "# Number of features to consider at every split\n",
        "max_features = ['auto', 'sqrt']\n",
        "# Maximum number of levels in tree\n",
        "max_depth = [int(x) for x in np.linspace(10, 110, num = 11)]\n",
        "max_depth.append(None)\n",
        "# Minimum number of samples required to split a node\n",
        "min_samples_split = [2, 5, 10]\n",
        "# Minimum number of samples required at each leaf node\n",
        "min_samples_leaf = [1, 2, 4]\n",
        "# Method of selecting samples for training each tree\n",
        "bootstrap = [True, False]\n",
        "\n",
        "\n",
        "random_grid = {'n_estimators': n_estimators,\n",
        "               'max_features': max_features,\n",
        "               'max_depth': max_depth,\n",
        "               'min_samples_split': min_samples_split,\n",
        "               'min_samples_leaf': min_samples_leaf,\n",
        "               'bootstrap': bootstrap}"
      ],
      "metadata": {
        "id": "uuHxbU2pkAzG"
      },
      "execution_count": 52,
      "outputs": []
    },
    {
      "cell_type": "markdown",
      "source": [
        "## 6.1 Binary Classification"
      ],
      "metadata": {
        "id": "fLZ6nlNmj9wV"
      }
    },
    {
      "cell_type": "code",
      "source": [
        "rf_random = RandomizedSearchCV(estimator = RandomForestClassifier(), param_distributions = random_grid, n_iter = 100, cv = 3, verbose=1, n_jobs = 1)"
      ],
      "metadata": {
        "id": "4QzWUw2lj_xa"
      },
      "execution_count": 53,
      "outputs": []
    },
    {
      "cell_type": "code",
      "source": [
        "X = X_binary_resampled[binary_relevant_features]\n",
        "y = Y_binary_resampled \n",
        "\n",
        "print(\"First approach\")\n",
        "\n",
        "X_train, X_test, y_train, y_test = train_test_split(X, y, test_size=0.3) # 70% training and 30% test\n",
        "\n",
        "rf_random.fit(X_train,y_train)\n",
        "print(rf_random.score(X_test, y_test)) # Accuracy 0.966\n",
        "\n",
        "print(\"Generalized?\")\n",
        "\n",
        "X_train = X\n",
        "y_train = y\n",
        "\n",
        "X_test = X_generalized_test[binary_relevant_features]\n",
        "y_test = y_generalized_test.iloc[:, 0]\n",
        "\n",
        "rf_random.fit(X_train,y_train)\n",
        "print(\"Accuracy:\",rf_random.score(X_test, y_test)) # Accuracy 0.704\n",
        "\n",
        "print(\"With scaling...\")\n",
        "\n",
        "scaler = MinMaxScaler()\n",
        "scaled_data = scaler.fit_transform(X)\n",
        "X_train=pd.DataFrame(scaled_data, columns=X.keys())\n",
        "\n",
        "y_train = y\n",
        "\n",
        "X_test = X_generalized_test_scaled[binary_relevant_features]\n",
        "y_test = y_generalized_test.iloc[:, 0]\n",
        "\n",
        "rf_random.fit(X_train,y_train)\n",
        "print(\"Accuracy:\",rf_random.score(X_test, y_test)) # Accuracy 0.833\n"
      ],
      "metadata": {
        "colab": {
          "base_uri": "https://localhost:8080/"
        },
        "id": "nW73hRwakZt0",
        "outputId": "180823e5-8330-4842-f7e8-38b800c9adbc"
      },
      "execution_count": 54,
      "outputs": [
        {
          "output_type": "stream",
          "name": "stdout",
          "text": [
            "First approach\n",
            "Fitting 3 folds for each of 100 candidates, totalling 300 fits\n"
          ]
        },
        {
          "output_type": "stream",
          "name": "stderr",
          "text": [
            "/usr/local/lib/python3.7/dist-packages/sklearn/model_selection/_validation.py:372: FitFailedWarning: \n",
            "30 fits failed out of a total of 300.\n",
            "The score on these train-test partitions for these parameters will be set to nan.\n",
            "If these failures are not expected, you can try to debug them by setting error_score='raise'.\n",
            "\n",
            "Below are more details about the failures:\n",
            "--------------------------------------------------------------------------------\n",
            "30 fits failed with the following error:\n",
            "Traceback (most recent call last):\n",
            "  File \"/usr/local/lib/python3.7/dist-packages/sklearn/model_selection/_validation.py\", line 681, in _fit_and_score\n",
            "    estimator.fit(X_train, y_train, **fit_params)\n",
            "  File \"/usr/local/lib/python3.7/dist-packages/sklearn/ensemble/_forest.py\", line 384, in fit\n",
            "    self._validate_estimator()\n",
            "  File \"/usr/local/lib/python3.7/dist-packages/sklearn/ensemble/_base.py\", line 140, in _validate_estimator\n",
            "    self.n_estimators\n",
            "ValueError: n_estimators must be greater than zero, got 0.\n",
            "\n",
            "  warnings.warn(some_fits_failed_message, FitFailedWarning)\n",
            "/usr/local/lib/python3.7/dist-packages/sklearn/model_selection/_search.py:972: UserWarning: One or more of the test scores are non-finite: [0.94214243 0.94714259 0.94157116 0.94085683 0.94885694 0.94242824\n",
            " 0.94528543 0.95057134 0.94671402 0.94128528 0.94185685 0.94414241\n",
            " 0.93928555 0.94642814        nan        nan 0.94628526 0.93914267\n",
            " 0.94942832 0.94157122 0.942571   0.94657102        nan 0.94957108\n",
            " 0.94399971 0.93899979 0.94242824 0.94257106        nan 0.93899985\n",
            " 0.94399971 0.94242818 0.94271394 0.9408569  0.94757092        nan\n",
            " 0.93899979 0.9495712  0.94199967 0.94242806 0.94185685 0.94128553\n",
            " 0.94357114 0.94171385 0.942571   0.94871394 0.942714   0.94185692\n",
            " 0.94971408 0.94099996 0.94071402 0.94714247 0.94285675 0.94171404\n",
            " 0.94242812        nan 0.94157122 0.94528537 0.94271394 0.94271394\n",
            " 0.9437139  0.94671377 0.94171398 0.9417141  0.94257118 0.94685665\n",
            " 0.94471385 0.94114259 0.94685677 0.94214243 0.94671371 0.94257112\n",
            " 0.93885698 0.9467139  0.94357108 0.94714241        nan 0.942571\n",
            "        nan 0.94657096 0.94157092 0.94214237 0.9475711  0.94328539\n",
            " 0.94171367 0.94914263 0.9462852  0.93914267 0.94128522 0.94342826\n",
            " 0.93928543 0.94285675 0.94699953 0.93899979 0.94185673 0.94114265\n",
            " 0.93914267 0.9422853         nan        nan]\n",
            "  category=UserWarning,\n"
          ]
        },
        {
          "output_type": "stream",
          "name": "stdout",
          "text": [
            "0.958\n",
            "Generalized?\n",
            "Fitting 3 folds for each of 100 candidates, totalling 300 fits\n"
          ]
        },
        {
          "output_type": "stream",
          "name": "stderr",
          "text": [
            "/usr/local/lib/python3.7/dist-packages/sklearn/model_selection/_validation.py:372: FitFailedWarning: \n",
            "36 fits failed out of a total of 300.\n",
            "The score on these train-test partitions for these parameters will be set to nan.\n",
            "If these failures are not expected, you can try to debug them by setting error_score='raise'.\n",
            "\n",
            "Below are more details about the failures:\n",
            "--------------------------------------------------------------------------------\n",
            "36 fits failed with the following error:\n",
            "Traceback (most recent call last):\n",
            "  File \"/usr/local/lib/python3.7/dist-packages/sklearn/model_selection/_validation.py\", line 681, in _fit_and_score\n",
            "    estimator.fit(X_train, y_train, **fit_params)\n",
            "  File \"/usr/local/lib/python3.7/dist-packages/sklearn/ensemble/_forest.py\", line 384, in fit\n",
            "    self._validate_estimator()\n",
            "  File \"/usr/local/lib/python3.7/dist-packages/sklearn/ensemble/_base.py\", line 140, in _validate_estimator\n",
            "    self.n_estimators\n",
            "ValueError: n_estimators must be greater than zero, got 0.\n",
            "\n",
            "  warnings.warn(some_fits_failed_message, FitFailedWarning)\n",
            "/usr/local/lib/python3.7/dist-packages/sklearn/model_selection/_search.py:972: UserWarning: One or more of the test scores are non-finite: [0.94339968 0.94909968 0.94629964 0.94389967 0.95229967 0.94339965\n",
            " 0.94209961 0.94319957 0.95379958 0.94249971 0.94529972 0.94389964\n",
            " 0.95209968 0.95159969 0.94469963 0.95159975        nan 0.94179958\n",
            " 0.94669968        nan 0.95069972 0.9420997  0.95059971 0.94919969\n",
            " 0.94819971 0.94389973 0.94819944 0.9454998         nan 0.94079954\n",
            " 0.95329956 0.9398996  0.95539956 0.94549974 0.94609968 0.94599967\n",
            "        nan 0.94179967 0.94579962 0.94429974 0.94489971 0.95169973\n",
            " 0.94369962 0.94639965 0.94999962 0.94839958 0.94939968 0.94929976\n",
            " 0.94389964 0.94299988 0.94019966 0.94559972 0.95229967 0.95539968\n",
            " 0.94519974 0.9510997  0.95159972        nan 0.95479968        nan\n",
            " 0.95219966        nan        nan 0.94539976 0.94059961        nan\n",
            " 0.9419996  0.94069959 0.9489997  0.94389958 0.94929961 0.94959967\n",
            " 0.94899964        nan 0.9404996  0.94279956 0.95539965 0.95219966\n",
            " 0.9512996  0.94049966 0.94459974 0.9510997  0.95019964 0.94329958\n",
            " 0.9522997  0.94489965 0.95419953 0.94069956 0.95209968 0.94339956\n",
            " 0.94309956 0.9439998  0.94399965 0.94499975 0.94529969 0.94179976\n",
            " 0.94569973        nan 0.94889951        nan]\n",
            "  category=UserWarning,\n"
          ]
        },
        {
          "output_type": "stream",
          "name": "stdout",
          "text": [
            "Accuracy: 0.7029239766081872\n",
            "With scaling...\n",
            "Fitting 3 folds for each of 100 candidates, totalling 300 fits\n"
          ]
        },
        {
          "output_type": "stream",
          "name": "stderr",
          "text": [
            "/usr/local/lib/python3.7/dist-packages/sklearn/model_selection/_validation.py:372: FitFailedWarning: \n",
            "36 fits failed out of a total of 300.\n",
            "The score on these train-test partitions for these parameters will be set to nan.\n",
            "If these failures are not expected, you can try to debug them by setting error_score='raise'.\n",
            "\n",
            "Below are more details about the failures:\n",
            "--------------------------------------------------------------------------------\n",
            "36 fits failed with the following error:\n",
            "Traceback (most recent call last):\n",
            "  File \"/usr/local/lib/python3.7/dist-packages/sklearn/model_selection/_validation.py\", line 681, in _fit_and_score\n",
            "    estimator.fit(X_train, y_train, **fit_params)\n",
            "  File \"/usr/local/lib/python3.7/dist-packages/sklearn/ensemble/_forest.py\", line 384, in fit\n",
            "    self._validate_estimator()\n",
            "  File \"/usr/local/lib/python3.7/dist-packages/sklearn/ensemble/_base.py\", line 140, in _validate_estimator\n",
            "    self.n_estimators\n",
            "ValueError: n_estimators must be greater than zero, got 0.\n",
            "\n",
            "  warnings.warn(some_fits_failed_message, FitFailedWarning)\n",
            "/usr/local/lib/python3.7/dist-packages/sklearn/model_selection/_search.py:972: UserWarning: One or more of the test scores are non-finite: [0.94049957 0.94209973 0.94179961 0.94739963 0.94839973 0.94419979\n",
            " 0.94099956 0.94069962 0.94319957 0.9431996  0.94359958 0.94379969\n",
            " 0.94079963 0.94259969 0.95029965        nan 0.9407996  0.9433995\n",
            " 0.94189962 0.94369962 0.94999965        nan 0.94329964 0.94549971\n",
            " 0.95549969 0.94069962 0.94409966 0.94279959 0.94109963 0.94609962\n",
            " 0.94289963        nan        nan        nan 0.95539968 0.95389956\n",
            " 0.94339956        nan 0.94099965 0.94099962 0.95559958        nan\n",
            " 0.94609971 0.95179959 0.94829957 0.9408997  0.95169967 0.94399968\n",
            "        nan 0.94019957 0.9404996  0.94129956        nan        nan\n",
            "        nan 0.94329976 0.95269965 0.9404996  0.95179959 0.94059964\n",
            " 0.94989964 0.94229966 0.95029959 0.94509976 0.94129968 0.95589964\n",
            " 0.94229969 0.94929964 0.94899964 0.94999968 0.94339959 0.9530996\n",
            " 0.95039969 0.95209959 0.94099959 0.94999959 0.94199963 0.9426997\n",
            " 0.94329952 0.95329962 0.95189963 0.95389965 0.9404996  0.94369965\n",
            " 0.94479964 0.94309968 0.95119962 0.94029964 0.94319987 0.94579959\n",
            " 0.94329967 0.95329959 0.94549968 0.9407996  0.94429974 0.94299958\n",
            " 0.95029965 0.94259951 0.94079954        nan]\n",
            "  category=UserWarning,\n"
          ]
        },
        {
          "output_type": "stream",
          "name": "stdout",
          "text": [
            "Accuracy: 0.8005847953216374\n"
          ]
        }
      ]
    },
    {
      "cell_type": "markdown",
      "source": [
        "## 6.2 Ternary Classification"
      ],
      "metadata": {
        "id": "0l3MXG29lAAM"
      }
    },
    {
      "cell_type": "code",
      "source": [
        "rf_random_ternary = RandomizedSearchCV(estimator = RandomForestClassifier(), param_distributions = random_grid, n_iter = 50, cv = 3, verbose=1,  n_jobs = 1)"
      ],
      "metadata": {
        "id": "QrfvphFAo-Q0"
      },
      "execution_count": 55,
      "outputs": []
    },
    {
      "cell_type": "code",
      "source": [
        "X = X_ternary_resampled[ternary_relevant_features]\n",
        "y = Y_ternary_resampled \n",
        "\n",
        "print(\"First approach\")\n",
        "\n",
        "X_train, X_test, y_train, y_test = train_test_split(X, y, test_size=0.3) # 70% training and 30% test\n",
        "\n",
        "rf_random_ternary.fit(X_train,y_train)\n",
        "print(\"Accuracy:\",rf_random_ternary.score(X_test, y_test))\n",
        "\n",
        "print(\"Generalized?\")\n",
        "\n",
        "X_train = X\n",
        "y_train = y\n",
        "\n",
        "X_test = X_generalized_test[ternary_relevant_features]\n",
        "y_test = y_generalized_test.iloc[:, 1]\n",
        "\n",
        "rf_random_ternary.fit(X_train,y_train)\n",
        "print(\"Accuracy:\",rf_random_ternary.score(X_test, y_test))\n",
        "\n",
        "print(\"With scaling...\")\n",
        "\n",
        "scaler = MinMaxScaler()\n",
        "scaled_data = scaler.fit_transform(X)\n",
        "X_train=pd.DataFrame(scaled_data, columns=X.keys())\n",
        "\n",
        "y_train = y\n",
        "\n",
        "X_test = X_generalized_test_scaled[ternary_relevant_features]\n",
        "y_test = y_generalized_test.iloc[:, 1]\n",
        "\n",
        "rf_random_ternary.fit(X_train,y_train)\n",
        "print(\"Accuracy:\",rf_random_ternary.score(X_test, y_test))"
      ],
      "metadata": {
        "id": "Qf0zd2qrmyn2",
        "colab": {
          "base_uri": "https://localhost:8080/"
        },
        "outputId": "f4d07111-825d-4167-bf14-2d6acc8620c8"
      },
      "execution_count": 56,
      "outputs": [
        {
          "output_type": "stream",
          "name": "stdout",
          "text": [
            "First approach\n",
            "Fitting 3 folds for each of 50 candidates, totalling 150 fits\n"
          ]
        },
        {
          "output_type": "stream",
          "name": "stderr",
          "text": [
            "/usr/local/lib/python3.7/dist-packages/sklearn/model_selection/_validation.py:372: FitFailedWarning: \n",
            "12 fits failed out of a total of 150.\n",
            "The score on these train-test partitions for these parameters will be set to nan.\n",
            "If these failures are not expected, you can try to debug them by setting error_score='raise'.\n",
            "\n",
            "Below are more details about the failures:\n",
            "--------------------------------------------------------------------------------\n",
            "12 fits failed with the following error:\n",
            "Traceback (most recent call last):\n",
            "  File \"/usr/local/lib/python3.7/dist-packages/sklearn/model_selection/_validation.py\", line 681, in _fit_and_score\n",
            "    estimator.fit(X_train, y_train, **fit_params)\n",
            "  File \"/usr/local/lib/python3.7/dist-packages/sklearn/ensemble/_forest.py\", line 384, in fit\n",
            "    self._validate_estimator()\n",
            "  File \"/usr/local/lib/python3.7/dist-packages/sklearn/ensemble/_base.py\", line 140, in _validate_estimator\n",
            "    self.n_estimators\n",
            "ValueError: n_estimators must be greater than zero, got 0.\n",
            "\n",
            "  warnings.warn(some_fits_failed_message, FitFailedWarning)\n",
            "/usr/local/lib/python3.7/dist-packages/sklearn/model_selection/_search.py:972: UserWarning: One or more of the test scores are non-finite: [       nan 0.8712381  0.83580952 0.87       0.84104762 0.86980952\n",
            " 0.84914286 0.84057143 0.8712381  0.786      0.86495238 0.84057143\n",
            " 0.85685714 0.85504762 0.87019048 0.87       0.85933333 0.84752381\n",
            " 0.83780952 0.87009524        nan 0.78228571 0.87247619 0.85885714\n",
            " 0.84247619 0.87114286 0.78552381 0.86733333 0.85933333 0.77961905\n",
            " 0.8487619         nan 0.87133333 0.85752381 0.87019048 0.84847619\n",
            " 0.87171429        nan 0.8572381  0.86219048 0.84161905 0.87238095\n",
            " 0.86438095 0.87114286 0.86219048 0.78238095 0.78828571 0.86885714\n",
            " 0.84171429 0.85885714]\n",
            "  category=UserWarning,\n"
          ]
        },
        {
          "output_type": "stream",
          "name": "stdout",
          "text": [
            "Accuracy: 0.9026666666666666\n",
            "Generalized?\n",
            "Fitting 3 folds for each of 50 candidates, totalling 150 fits\n"
          ]
        },
        {
          "output_type": "stream",
          "name": "stderr",
          "text": [
            "/usr/local/lib/python3.7/dist-packages/sklearn/model_selection/_validation.py:372: FitFailedWarning: \n",
            "24 fits failed out of a total of 150.\n",
            "The score on these train-test partitions for these parameters will be set to nan.\n",
            "If these failures are not expected, you can try to debug them by setting error_score='raise'.\n",
            "\n",
            "Below are more details about the failures:\n",
            "--------------------------------------------------------------------------------\n",
            "24 fits failed with the following error:\n",
            "Traceback (most recent call last):\n",
            "  File \"/usr/local/lib/python3.7/dist-packages/sklearn/model_selection/_validation.py\", line 681, in _fit_and_score\n",
            "    estimator.fit(X_train, y_train, **fit_params)\n",
            "  File \"/usr/local/lib/python3.7/dist-packages/sklearn/ensemble/_forest.py\", line 384, in fit\n",
            "    self._validate_estimator()\n",
            "  File \"/usr/local/lib/python3.7/dist-packages/sklearn/ensemble/_base.py\", line 140, in _validate_estimator\n",
            "    self.n_estimators\n",
            "ValueError: n_estimators must be greater than zero, got 0.\n",
            "\n",
            "  warnings.warn(some_fits_failed_message, FitFailedWarning)\n",
            "/usr/local/lib/python3.7/dist-packages/sklearn/model_selection/_search.py:972: UserWarning: One or more of the test scores are non-finite: [0.8992     0.8628     0.88066667 0.90086667 0.90126667 0.86526667\n",
            " 0.89953333 0.8844     0.8988     0.8892     0.86493333 0.79206667\n",
            "        nan 0.88893333 0.8956     0.86346667        nan 0.88713333\n",
            " 0.8982     0.86446667 0.79966667 0.8994     0.89233333 0.89813333\n",
            " 0.90046667 0.8706     0.8874     0.86253333 0.8932            nan\n",
            " 0.88913333 0.88793333 0.88353333 0.80013333        nan 0.88886667\n",
            " 0.90013333        nan 0.90066667 0.89933333 0.90046667 0.88773333\n",
            " 0.79926667        nan 0.8648            nan        nan 0.90066667\n",
            " 0.9004     0.88046667]\n",
            "  category=UserWarning,\n"
          ]
        },
        {
          "output_type": "stream",
          "name": "stdout",
          "text": [
            "Accuracy: 0.4251461988304094\n",
            "With scaling...\n",
            "Fitting 3 folds for each of 50 candidates, totalling 150 fits\n"
          ]
        },
        {
          "output_type": "stream",
          "name": "stderr",
          "text": [
            "/usr/local/lib/python3.7/dist-packages/sklearn/model_selection/_validation.py:372: FitFailedWarning: \n",
            "21 fits failed out of a total of 150.\n",
            "The score on these train-test partitions for these parameters will be set to nan.\n",
            "If these failures are not expected, you can try to debug them by setting error_score='raise'.\n",
            "\n",
            "Below are more details about the failures:\n",
            "--------------------------------------------------------------------------------\n",
            "21 fits failed with the following error:\n",
            "Traceback (most recent call last):\n",
            "  File \"/usr/local/lib/python3.7/dist-packages/sklearn/model_selection/_validation.py\", line 681, in _fit_and_score\n",
            "    estimator.fit(X_train, y_train, **fit_params)\n",
            "  File \"/usr/local/lib/python3.7/dist-packages/sklearn/ensemble/_forest.py\", line 384, in fit\n",
            "    self._validate_estimator()\n",
            "  File \"/usr/local/lib/python3.7/dist-packages/sklearn/ensemble/_base.py\", line 140, in _validate_estimator\n",
            "    self.n_estimators\n",
            "ValueError: n_estimators must be greater than zero, got 0.\n",
            "\n",
            "  warnings.warn(some_fits_failed_message, FitFailedWarning)\n",
            "/usr/local/lib/python3.7/dist-packages/sklearn/model_selection/_search.py:972: UserWarning: One or more of the test scores are non-finite: [0.7948            nan 0.89833333        nan 0.8038     0.8798\n",
            " 0.88406667 0.8998     0.88126667 0.86506667 0.87373333 0.8988\n",
            " 0.88693333 0.88813333 0.88746667 0.88046667 0.88673333 0.89873333\n",
            " 0.8866     0.8944            nan 0.79993333 0.89933333 0.865\n",
            " 0.9006     0.86246667        nan 0.79413333 0.87013333 0.8892\n",
            " 0.8622     0.901      0.8696     0.88673333 0.88853333 0.90026667\n",
            " 0.88093333 0.8924     0.89793333        nan 0.8856     0.79606667\n",
            " 0.8868            nan 0.88006667 0.86326667 0.80066667        nan\n",
            " 0.88366667 0.89693333]\n",
            "  category=UserWarning,\n"
          ]
        },
        {
          "output_type": "stream",
          "name": "stdout",
          "text": [
            "Accuracy: 0.2789473684210526\n"
          ]
        }
      ]
    },
    {
      "cell_type": "markdown",
      "source": [
        "# 7. Summary-Results"
      ],
      "metadata": {
        "id": "d_PHf4kszRdB"
      }
    },
    {
      "cell_type": "code",
      "source": [
        "from google.colab import data_table\n",
        "data_table.enable_dataframe_formatter()\n",
        "\n"
      ],
      "metadata": {
        "id": "s3XidTdtzvMv"
      },
      "execution_count": 57,
      "outputs": []
    },
    {
      "cell_type": "markdown",
      "source": [
        "## 7.1 Model Comparison\n",
        "\n"
      ],
      "metadata": {
        "id": "NEiny0O0zX8U"
      }
    },
    {
      "cell_type": "markdown",
      "source": [
        "The following table summarizes the result with the train dataset of ~11K sessions with upsampling. For \n",
        "\n",
        "||RF|SVM|XGBoost|Decision Tree|\n",
        "|---|-----|---|---|---|\n",
        "|Binary|**0.97**|0.93|0.94|0.93|\n",
        "|Ternary|**0.92**|0.58|0.75|0.89|"
      ],
      "metadata": {
        "id": "vqVxHFyZ0wkD"
      }
    },
    {
      "cell_type": "markdown",
      "source": [
        "## 7.2 Generalization"
      ],
      "metadata": {
        "id": "yP4w6GLD5fCU"
      }
    },
    {
      "cell_type": "markdown",
      "source": [
        "We focus on the best ML model which is Random Forest.\n",
        "\n",
        "After we trained our ML model using the ~11K sessions, we tried to test our model with sessions produced under different conditions (ethernet, vpn, bandwidth, session duration).\n",
        "\n",
        "We compare the normal accuracy score of the random forest with the test accuracy derived from the generalized dataset. As you may notice the accuracy drops. In order to make our model robust, we tried to rescale the network features using the rescale function of scikit library [Interesting link about normalization/standardization](https://towardsdatascience.com/everything-you-need-to-know-about-min-max-normalization-in-python-b79592732b79)\n",
        "\n",
        "|Random Forest|Normal|Generalized|Generalized (Rescaled)|\n",
        "|---|-----|---|---|\n",
        "|Binary|**0.97**|0.83|0.88|\n",
        "|Ternary|**0.92**|0.37|0.31|"
      ],
      "metadata": {
        "id": "zR2hgux85ixP"
      }
    },
    {
      "cell_type": "markdown",
      "source": [
        "## 7.3 Feature Selection\n",
        "\n"
      ],
      "metadata": {
        "id": "Z9hzC4JyApNd"
      }
    },
    {
      "cell_type": "markdown",
      "source": [
        "Let's see how feature selection impacts performance of ML models:\n",
        "\n",
        "We used the univariate feature selection algorithm.\n",
        "\n",
        "|Random Forest|24 Features|5 Features|\n",
        "|---|-----|---|\n",
        "|Binary|**0.966**|0.955|\n",
        "|Ternary|**0.914**|0.906|"
      ],
      "metadata": {
        "id": "WW4gR2phDaJi"
      }
    },
    {
      "cell_type": "markdown",
      "source": [
        "## 7.4 Cross Validation\n"
      ],
      "metadata": {
        "id": "QhcjinkmCuRc"
      }
    },
    {
      "cell_type": "markdown",
      "source": [
        "Finally we performed cross validation to our ML model to make it robust.\n",
        "\n",
        "* For the binary classification we performed 100 iterations with 3 Cross validations (3*100 = 300 iterations)\n",
        "\n",
        "* For the ternary classification we performed 10 iterations with 3 Cross Validations (3*10 = 30 iterations).\n",
        "\n",
        "* The models have been trained using the 5 most important features as selected above.\n",
        "\n",
        "* The features are rescaled to make the model as generalizable as possible.\n",
        "\n",
        "* The performance is measured over the same dataset and over a generalized dataset.\n",
        "\n",
        "Results:\n",
        "\n",
        "|Random Forest|Test w\\ Same Dataset| Test w\\ Generalized Dataset and Rescaled\n",
        "|---|-----|---|\n",
        "|Binary|**0.966**|0.833|\n",
        "|Ternary|**0.899**|0.279|"
      ],
      "metadata": {
        "id": "4VlrGVmADdq9"
      }
    }
  ],
  "metadata": {
    "colab": {
      "collapsed_sections": [
        "0c1g4rhRLop6"
      ],
      "name": "TMA_MLEARN",
      "provenance": []
    },
    "kernelspec": {
      "display_name": "Python 3",
      "name": "python3"
    },
    "language_info": {
      "name": "python"
    }
  },
  "nbformat": 4,
  "nbformat_minor": 0
}